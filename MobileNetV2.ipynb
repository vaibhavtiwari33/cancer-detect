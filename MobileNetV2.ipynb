{
  "nbformat": 4,
  "nbformat_minor": 0,
  "metadata": {
    "colab": {
      "name": "ECE228_MobileNetV2.ipynb",
      "provenance": [],
      "collapsed_sections": [],
      "toc_visible": true
    },
    "kernelspec": {
      "name": "python3",
      "display_name": "Python 3"
    },
    "language_info": {
      "name": "python"
    },
    "accelerator": "GPU"
  },
  "cells": [
    {
      "cell_type": "markdown",
      "metadata": {
        "id": "YqdH2YBj6v7j"
      },
      "source": [
        "# Imports"
      ]
    },
    {
      "cell_type": "code",
      "metadata": {
        "id": "ZX8JhWl3iwHG"
      },
      "source": [
        "from fastai.vision import *\n",
        "from fastai.metrics import error_rate\n",
        "\n",
        "# Import Libraries here\n",
        "import os\n",
        "import json \n",
        "import shutil\n",
        "import zipfile\n",
        "\n",
        "%reload_ext autoreload\n",
        "%autoreload 2\n",
        "%matplotlib inline"
      ],
      "execution_count": null,
      "outputs": []
    },
    {
      "cell_type": "code",
      "metadata": {
        "id": "0wUC1Mtc4_bJ"
      },
      "source": [
        "import tensorflow as tf\n",
        "from tensorflow.keras.preprocessing.image import *\n",
        "from tensorflow.keras.callbacks import EarlyStopping, ReduceLROnPlateau, ModelCheckpoint\n",
        "import pandas as pd"
      ],
      "execution_count": null,
      "outputs": []
    },
    {
      "cell_type": "code",
      "metadata": {
        "id": "-ytTn_IFZxRo"
      },
      "source": [
        "import sklearn\n",
        "from sklearn.metrics import confusion_matrix\n",
        "from sklearn.metrics import roc_auc_score\n",
        "from sklearn.metrics import classification_report\n",
        "from sklearn.metrics import f1_score\n",
        "from sklearn.model_selection import train_test_split\n",
        "import seaborn as sns"
      ],
      "execution_count": null,
      "outputs": []
    },
    {
      "cell_type": "markdown",
      "metadata": {
        "id": "x-tiUFZY4f-K"
      },
      "source": [
        "# Load Kaggle Data"
      ]
    },
    {
      "cell_type": "code",
      "metadata": {
        "colab": {
          "base_uri": "https://localhost:8080/"
        },
        "id": "monfBu9VkRiX",
        "outputId": "c3fa40e9-e1c1-4ac2-f053-9cef0843da88"
      },
      "source": [
        "!pip install --upgrade --force-reinstall --no-deps kaggle"
      ],
      "execution_count": null,
      "outputs": [
        {
          "output_type": "stream",
          "text": [
            "Collecting kaggle\n",
            "\u001b[?25l  Downloading https://files.pythonhosted.org/packages/3a/e7/3bac01547d2ed3d308ac92a0878fbdb0ed0f3d41fb1906c319ccbba1bfbc/kaggle-1.5.12.tar.gz (58kB)\n",
            "\u001b[K     |████████████████████████████████| 61kB 2.4MB/s \n",
            "\u001b[?25hBuilding wheels for collected packages: kaggle\n",
            "  Building wheel for kaggle (setup.py) ... \u001b[?25l\u001b[?25hdone\n",
            "  Created wheel for kaggle: filename=kaggle-1.5.12-cp37-none-any.whl size=73053 sha256=aabb8654eae694450fdd46a36555e01fcf9db8979f81c9a189f162f09ea7fc68\n",
            "  Stored in directory: /root/.cache/pip/wheels/a1/6a/26/d30b7499ff85a4a4593377a87ecf55f7d08af42f0de9b60303\n",
            "Successfully built kaggle\n",
            "Installing collected packages: kaggle\n",
            "  Found existing installation: kaggle 1.5.12\n",
            "    Uninstalling kaggle-1.5.12:\n",
            "      Successfully uninstalled kaggle-1.5.12\n",
            "Successfully installed kaggle-1.5.12\n"
          ],
          "name": "stdout"
        }
      ]
    },
    {
      "cell_type": "code",
      "metadata": {
        "id": "q_ptAtQji3sg"
      },
      "source": [
        "base_dir = 'drive/MyDrive/Documents/Project/ECE228'"
      ],
      "execution_count": null,
      "outputs": []
    },
    {
      "cell_type": "code",
      "metadata": {
        "colab": {
          "base_uri": "https://localhost:8080/"
        },
        "id": "rU5UT8UCi8J_",
        "outputId": "241f4bd2-7f89-4ac1-d1c5-7050ad06bd9b"
      },
      "source": [
        "!kaggle competitions download -c histopathologic-cancer-detection -p \"{base_dir}\""
      ],
      "execution_count": null,
      "outputs": [
        {
          "output_type": "stream",
          "text": [
            "Warning: Your Kaggle API key is readable by other users on this system! To fix this, you can run 'chmod 600 /root/.kaggle/kaggle.json'\n",
            "Downloading histopathologic-cancer-detection.zip to drive/MyDrive/Documents/Project/ECE228\n",
            "100% 6.31G/6.31G [01:33<00:00, 52.1MB/s]\n",
            "100% 6.31G/6.31G [01:36<00:00, 70.5MB/s]\n"
          ],
          "name": "stdout"
        }
      ]
    },
    {
      "cell_type": "code",
      "metadata": {
        "id": "rsNPBcLnF5-E",
        "colab": {
          "base_uri": "https://localhost:8080/"
        },
        "outputId": "c69c2444-37cf-4fa8-e64c-cb36aca4ecdb"
      },
      "source": [
        "import subprocess\n",
        "subprocess.call(['unzip', '{}/histopathologic-cancer-detection.zip'.format(base_dir)])"
      ],
      "execution_count": null,
      "outputs": [
        {
          "output_type": "execute_result",
          "data": {
            "text/plain": [
              "0"
            ]
          },
          "metadata": {
            "tags": []
          },
          "execution_count": 6
        }
      ]
    },
    {
      "cell_type": "markdown",
      "metadata": {
        "id": "Uo4OR1EGl9_3"
      },
      "source": [
        "# Tensorflow Transfer learning\n",
        "\n",
        "---\n",
        "\n"
      ]
    },
    {
      "cell_type": "markdown",
      "metadata": {
        "id": "qIZq22DCwvhc"
      },
      "source": [
        "## Sans Augmentation"
      ]
    },
    {
      "cell_type": "markdown",
      "metadata": {
        "id": "ICDwfYyb25HM"
      },
      "source": [
        "### Create data generators"
      ]
    },
    {
      "cell_type": "code",
      "metadata": {
        "id": "gxKXakqU25HN"
      },
      "source": [
        "new_base_dir = 'dataset_folder'\n",
        "training_sub_path = 'train'\n",
        "test_sub_path = 'test'"
      ],
      "execution_count": null,
      "outputs": []
    },
    {
      "cell_type": "code",
      "metadata": {
        "id": "feAjd47O25HN"
      },
      "source": [
        "IMG_SIZE = (96, 96) \n",
        "IMG_SHAPE = IMG_SIZE + (3,)\n",
        "BATCH_SIZE = 64"
      ],
      "execution_count": null,
      "outputs": []
    },
    {
      "cell_type": "code",
      "metadata": {
        "id": "G8uZOlOc25HO"
      },
      "source": [
        "data_generator = ImageDataGenerator(validation_split=0.2)"
      ],
      "execution_count": null,
      "outputs": []
    },
    {
      "cell_type": "code",
      "metadata": {
        "colab": {
          "base_uri": "https://localhost:8080/"
        },
        "id": "katKLOez25HO",
        "outputId": "4269db26-2f0d-43ce-f9fb-3216494bc8fa"
      },
      "source": [
        "train_data_iterator = data_generator.flow_from_directory('{}/{}'.format(new_base_dir, 'train'), \n",
        "                                                         target_size=IMG_SIZE,\n",
        "                                                         class_mode='binary', \n",
        "                                                         subset='training', \n",
        "                                                         batch_size=BATCH_SIZE)"
      ],
      "execution_count": null,
      "outputs": [
        {
          "output_type": "stream",
          "text": [
            "Found 176021 images belonging to 2 classes.\n"
          ],
          "name": "stdout"
        }
      ]
    },
    {
      "cell_type": "code",
      "metadata": {
        "colab": {
          "base_uri": "https://localhost:8080/"
        },
        "id": "YbHgdU5k25HO",
        "outputId": "8817688e-9118-4bfa-bbae-66d069c47337"
      },
      "source": [
        "validation_data_iterator = data_generator.flow_from_directory('{}/{}'.format(new_base_dir, 'train'), \n",
        "                                                              target_size=IMG_SIZE,\n",
        "                                                              class_mode='binary', \n",
        "                                                              subset='validation', \n",
        "                                                              batch_size=BATCH_SIZE)"
      ],
      "execution_count": null,
      "outputs": [
        {
          "output_type": "stream",
          "text": [
            "Found 44004 images belonging to 2 classes.\n"
          ],
          "name": "stdout"
        }
      ]
    },
    {
      "cell_type": "code",
      "metadata": {
        "id": "uj_09Zc_25HQ"
      },
      "source": [
        "STEP_SIZE_TRAIN = train_data_iterator.n//train_data_iterator.batch_size\n",
        "STEP_SIZE_VALIDATION = validation_data_iterator.n//validation_data_iterator.batch_size"
      ],
      "execution_count": null,
      "outputs": []
    },
    {
      "cell_type": "markdown",
      "metadata": {
        "id": "KpbdtJxaw0d2"
      },
      "source": [
        "### Create Model"
      ]
    },
    {
      "cell_type": "code",
      "metadata": {
        "id": "vriO_iGVmC3T"
      },
      "source": [
        "preprocess_input = tf.keras.applications.mobilenet_v2.preprocess_input"
      ],
      "execution_count": null,
      "outputs": []
    },
    {
      "cell_type": "code",
      "metadata": {
        "id": "hAOmwpc0rawb"
      },
      "source": [
        "base_model = tf.keras.applications.MobileNetV2(input_shape=IMG_SHAPE, include_top=False, weights='imagenet')"
      ],
      "execution_count": null,
      "outputs": []
    },
    {
      "cell_type": "code",
      "metadata": {
        "id": "XvjFR0qArkmE"
      },
      "source": [
        "base_model.trainable = False"
      ],
      "execution_count": null,
      "outputs": []
    },
    {
      "cell_type": "code",
      "metadata": {
        "colab": {
          "base_uri": "https://localhost:8080/"
        },
        "id": "OmbAANwBr-43",
        "outputId": "7e1becd8-08e6-410d-f5ef-d7a21352e3bb"
      },
      "source": [
        "image_batch, label_batch = next(iter(train_data_iterator))\n",
        "feature_batch = base_model(image_batch)\n",
        "print(feature_batch.shape)"
      ],
      "execution_count": null,
      "outputs": [
        {
          "output_type": "stream",
          "text": [
            "(64, 3, 3, 1280)\n"
          ],
          "name": "stdout"
        }
      ]
    },
    {
      "cell_type": "code",
      "metadata": {
        "colab": {
          "base_uri": "https://localhost:8080/"
        },
        "id": "eIk82qwMroE7",
        "outputId": "f9d61290-e87b-42dc-cb55-c7c0fd9e0731"
      },
      "source": [
        "global_average_layer = tf.keras.layers.GlobalAveragePooling2D()\n",
        "feature_batch_average = global_average_layer(feature_batch)\n",
        "print(feature_batch_average.shape)"
      ],
      "execution_count": null,
      "outputs": [
        {
          "output_type": "stream",
          "text": [
            "(64, 1280)\n"
          ],
          "name": "stdout"
        }
      ]
    },
    {
      "cell_type": "code",
      "metadata": {
        "colab": {
          "base_uri": "https://localhost:8080/"
        },
        "id": "jUzznvJJs4vA",
        "outputId": "506ae732-2f14-495a-8527-0515b238f6b0"
      },
      "source": [
        "prediction_layer = tf.keras.layers.Dense(1)\n",
        "prediction_batch = prediction_layer(feature_batch_average)\n",
        "print(prediction_batch.shape)"
      ],
      "execution_count": null,
      "outputs": [
        {
          "output_type": "stream",
          "text": [
            "(64, 1)\n"
          ],
          "name": "stdout"
        }
      ]
    },
    {
      "cell_type": "code",
      "metadata": {
        "id": "Ptd2P0JVtBnF"
      },
      "source": [
        "inputs = tf.keras.Input(shape=IMG_SHAPE)\n",
        "x = preprocess_input(inputs)\n",
        "x = base_model(x, training=False)\n",
        "x = global_average_layer(x)\n",
        "x = tf.keras.layers.Dropout(0.2)(x)\n",
        "outputs = prediction_layer(x)\n",
        "model = tf.keras.Model(inputs, outputs)"
      ],
      "execution_count": null,
      "outputs": []
    },
    {
      "cell_type": "code",
      "metadata": {
        "id": "fK1CDe_8tMME"
      },
      "source": [
        "base_learning_rate = 0.0001\n",
        "model.compile(optimizer=tf.keras.optimizers.Adam(learning_rate=base_learning_rate), \n",
        "              loss=tf.keras.losses.BinaryCrossentropy(from_logits=True), \n",
        "              metrics=['accuracy'])"
      ],
      "execution_count": null,
      "outputs": []
    },
    {
      "cell_type": "code",
      "metadata": {
        "colab": {
          "base_uri": "https://localhost:8080/"
        },
        "id": "mOfZlwONtdlc",
        "outputId": "23b39741-eb76-49b9-bb14-dc4f4aedeac1"
      },
      "source": [
        "len(model.trainable_variables)"
      ],
      "execution_count": null,
      "outputs": [
        {
          "output_type": "execute_result",
          "data": {
            "text/plain": [
              "2"
            ]
          },
          "metadata": {
            "tags": []
          },
          "execution_count": 33
        }
      ]
    },
    {
      "cell_type": "markdown",
      "metadata": {
        "id": "bJdA8t4cw2-b"
      },
      "source": [
        "### Train Model"
      ]
    },
    {
      "cell_type": "code",
      "metadata": {
        "id": "oUd1y-LLmPSY"
      },
      "source": [
        "initial_epochs = 30"
      ],
      "execution_count": null,
      "outputs": []
    },
    {
      "cell_type": "code",
      "metadata": {
        "id": "-8wRgqZXtzIE"
      },
      "source": [
        "history = model.fit(train_data_iterator, epochs=initial_epochs, validation_data=validation_data_iterator, verbose=True)"
      ],
      "execution_count": null,
      "outputs": []
    },
    {
      "cell_type": "code",
      "metadata": {
        "colab": {
          "base_uri": "https://localhost:8080/"
        },
        "id": "Z77WEVW1zBYT",
        "outputId": "611c2426-b638-45d7-85e9-ce5398fd4591"
      },
      "source": [
        "model.save('{}/{}'.format(base_dir, 'mobileNetV2_model0_30.h5'))"
      ],
      "execution_count": null,
      "outputs": [
        {
          "output_type": "stream",
          "text": [
            "/usr/local/lib/python3.7/dist-packages/tensorflow/python/keras/utils/generic_utils.py:497: CustomMaskWarning: Custom mask layers require a config and must override get_config. When loading, the custom mask layer must be passed to the custom_objects argument.\n",
            "  category=CustomMaskWarning)\n"
          ],
          "name": "stderr"
        }
      ]
    },
    {
      "cell_type": "code",
      "metadata": {
        "id": "uSrRasatlkOV"
      },
      "source": [
        "model = tf.keras.models.load_model('{}/{}'.format(base_dir, 'mobileNetV2_model0_30.h5'))"
      ],
      "execution_count": null,
      "outputs": []
    },
    {
      "cell_type": "markdown",
      "metadata": {
        "id": "lzd4kkKGw5zM"
      },
      "source": [
        "### Plot loss and accuracy"
      ]
    },
    {
      "cell_type": "code",
      "metadata": {
        "id": "XSAlKNDjuNQq"
      },
      "source": [
        "acc = history.history['accuracy']\n",
        "val_acc = history.history['val_accuracy']\n",
        "\n",
        "loss = history.history['loss']\n",
        "val_loss = history.history['val_loss']\n",
        "\n",
        "plt.figure(figsize=(8, 8))\n",
        "plt.subplot(2, 1, 1)\n",
        "plt.plot(acc, label='Training Accuracy')\n",
        "plt.plot(val_acc, label='Validation Accuracy')\n",
        "plt.legend(loc='lower right')\n",
        "plt.ylabel('Accuracy')\n",
        "plt.ylim([min(plt.ylim()),1])\n",
        "plt.title('Training and Validation Accuracy')\n",
        "\n",
        "plt.subplot(2, 1, 2)\n",
        "plt.plot(loss, label='Training Loss')\n",
        "plt.plot(val_loss, label='Validation Loss')\n",
        "plt.legend(loc='upper right')\n",
        "plt.ylabel('Cross Entropy')\n",
        "plt.ylim([0,1.0])\n",
        "plt.title('Training and Validation Loss')\n",
        "plt.xlabel('epoch')\n",
        "plt.show()"
      ],
      "execution_count": null,
      "outputs": []
    },
    {
      "cell_type": "markdown",
      "metadata": {
        "id": "fGAoitp9w8ny"
      },
      "source": [
        "### Fine tune model"
      ]
    },
    {
      "cell_type": "code",
      "metadata": {
        "id": "fvcRf05Qze0A"
      },
      "source": [
        "base_model.trainable = True"
      ],
      "execution_count": null,
      "outputs": []
    },
    {
      "cell_type": "code",
      "metadata": {
        "id": "mFrIlpCZ2DLe"
      },
      "source": [
        "fine_tune_at = 100\n",
        "\n",
        "for layer in base_model.layers[:fine_tune_at]:\n",
        "  layer.trainable = False"
      ],
      "execution_count": null,
      "outputs": []
    },
    {
      "cell_type": "code",
      "metadata": {
        "id": "pYXD_8sU2LEO"
      },
      "source": [
        "model.compile(loss=tf.keras.losses.BinaryCrossentropy(from_logits=True), \n",
        "              optimizer=tf.keras.optimizers.Adam(learning_rate=base_learning_rate/10),\n",
        "              metrics=['accuracy'])"
      ],
      "execution_count": null,
      "outputs": []
    },
    {
      "cell_type": "code",
      "metadata": {
        "colab": {
          "base_uri": "https://localhost:8080/"
        },
        "id": "ebdKnUs72nTe",
        "outputId": "3d43a740-7aa4-48f3-8488-308b97d1b053"
      },
      "source": [
        "model.summary()"
      ],
      "execution_count": null,
      "outputs": [
        {
          "output_type": "stream",
          "text": [
            "Model: \"model\"\n",
            "_________________________________________________________________\n",
            "Layer (type)                 Output Shape              Param #   \n",
            "=================================================================\n",
            "input_4 (InputLayer)         [(None, 96, 96, 3)]       0         \n",
            "_________________________________________________________________\n",
            "tf.math.truediv (TFOpLambda) (None, 96, 96, 3)         0         \n",
            "_________________________________________________________________\n",
            "tf.math.subtract (TFOpLambda (None, 96, 96, 3)         0         \n",
            "_________________________________________________________________\n",
            "mobilenetv2_1.00_96 (Functio (None, 3, 3, 1280)        2257984   \n",
            "_________________________________________________________________\n",
            "global_average_pooling2d (Gl (None, 1280)              0         \n",
            "_________________________________________________________________\n",
            "dropout (Dropout)            (None, 1280)              0         \n",
            "_________________________________________________________________\n",
            "dense (Dense)                (None, 1)                 1281      \n",
            "=================================================================\n",
            "Total params: 2,259,265\n",
            "Trainable params: 1,862,721\n",
            "Non-trainable params: 396,544\n",
            "_________________________________________________________________\n"
          ],
          "name": "stdout"
        }
      ]
    },
    {
      "cell_type": "code",
      "metadata": {
        "colab": {
          "base_uri": "https://localhost:8080/"
        },
        "id": "ycz1RQES2oNK",
        "outputId": "be33001b-ce82-4426-f502-78115f848d10"
      },
      "source": [
        "len(model.trainable_variables)"
      ],
      "execution_count": null,
      "outputs": [
        {
          "output_type": "execute_result",
          "data": {
            "text/plain": [
              "56"
            ]
          },
          "metadata": {
            "tags": []
          },
          "execution_count": 49
        }
      ]
    },
    {
      "cell_type": "markdown",
      "metadata": {
        "id": "X_kEFrrHw_KF"
      },
      "source": [
        "### Train fine tuned model"
      ]
    },
    {
      "cell_type": "code",
      "metadata": {
        "id": "4RdvqdGt2qG6"
      },
      "source": [
        "fine_tune_epochs = 30\n",
        "total_epochs = initial_epochs + fine_tune_epochs\n",
        "\n",
        "history_fine = model.fit(train_data_iterator, \n",
        "                         epochs=total_epochs, \n",
        "                         initial_epoch=(initial_epochs - 1),#history.epoch[-1], \n",
        "                         validation_data=validation_data_iterator)"
      ],
      "execution_count": null,
      "outputs": []
    },
    {
      "cell_type": "markdown",
      "metadata": {
        "id": "Dw0GSp6vxCTJ"
      },
      "source": [
        "### Plot improved loss and accuracy"
      ]
    },
    {
      "cell_type": "code",
      "metadata": {
        "id": "1DfHBDOj2-4G"
      },
      "source": [
        "acc += history_fine.history['accuracy']\n",
        "val_acc += history_fine.history['val_accuracy']\n",
        "\n",
        "loss += history_fine.history['loss']\n",
        "val_loss += history_fine.history['val_loss']"
      ],
      "execution_count": null,
      "outputs": []
    },
    {
      "cell_type": "code",
      "metadata": {
        "colab": {
          "base_uri": "https://localhost:8080/",
          "height": 513
        },
        "id": "jy3Wok9Y3XRA",
        "outputId": "edbb9293-1c7d-43e1-b329-62ab28c31f49"
      },
      "source": [
        "plt.figure(figsize=(8, 8))\n",
        "plt.subplot(2, 1, 1)\n",
        "plt.plot(acc, label='Training Accuracy')\n",
        "plt.plot(val_acc, label='Validation Accuracy')\n",
        "plt.ylim([0.8, 1])\n",
        "plt.plot([initial_epochs-1,initial_epochs-1],\n",
        "          plt.ylim(), label='Start Fine Tuning')\n",
        "plt.legend(loc='lower right')\n",
        "plt.title('Training and Validation Accuracy')\n",
        "\n",
        "plt.subplot(2, 1, 2)\n",
        "plt.plot(loss, label='Training Loss')\n",
        "plt.plot(val_loss, label='Validation Loss')\n",
        "plt.ylim([0, 1.0])\n",
        "plt.plot([initial_epochs-1,initial_epochs-1],\n",
        "         plt.ylim(), label='Start Fine Tuning')\n",
        "plt.legend(loc='upper right')\n",
        "plt.title('Training and Validation Loss')\n",
        "plt.xlabel('epoch')\n",
        "plt.show()"
      ],
      "execution_count": null,
      "outputs": [
        {
          "output_type": "display_data",
          "data": {
            "image/png": "[encoded data removed]",
            "text/plain": [
              "<Figure size 576x576 with 2 Axes>"
            ]
          },
          "metadata": {
            "tags": [],
            "needs_background": "light"
          }
        }
      ]
    },
    {
      "cell_type": "code",
      "metadata": {
        "id": "DD3hPS4W4iyd"
      },
      "source": [
        "model.save('{}/{}'.format(base_dir, 'mobileNetV2_model_tuned_30.h5'))"
      ],
      "execution_count": null,
      "outputs": []
    },
    {
      "cell_type": "code",
      "metadata": {
        "id": "XH61WRgNAhzG"
      },
      "source": [
        "model = tf.keras.models.load_model('{}/{}'.format(base_dir, 'mobileNetV2_model_tuned.h5'))"
      ],
      "execution_count": null,
      "outputs": []
    },
    {
      "cell_type": "markdown",
      "metadata": {
        "id": "FWPaO0nqAhzH"
      },
      "source": [
        "### Confusion Matrix"
      ]
    },
    {
      "cell_type": "code",
      "metadata": {
        "id": "bQiXHDELAhzH"
      },
      "source": [
        "sample, labels = validation_data_iterator.next()\n",
        "predictions = model.predict(sample)\n",
        "batches = 1\n",
        "for x, y in validation_data_iterator:\n",
        "  predictions = np.append(predictions, model.predict(x), axis=0)\n",
        "  labels = np.append(labels, y)\n",
        "  batches = batches + 1\n",
        "  if batches >= STEP_SIZE_VALIDATION:\n",
        "    break"
      ],
      "execution_count": null,
      "outputs": []
    },
    {
      "cell_type": "code",
      "metadata": {
        "id": "T4hnG2StAhzH"
      },
      "source": [
        "predictions[predictions < 0] = 0\n",
        "predictions[predictions > 0] = 1"
      ],
      "execution_count": null,
      "outputs": []
    },
    {
      "cell_type": "code",
      "metadata": {
        "id": "jL8tmRK0AhzH"
      },
      "source": [
        "y_true = labels\n",
        "y_pred = predictions "
      ],
      "execution_count": null,
      "outputs": []
    },
    {
      "cell_type": "code",
      "metadata": {
        "colab": {
          "base_uri": "https://localhost:8080/"
        },
        "id": "gFqAnSWaAhzI",
        "outputId": "4844829f-bdcd-470e-c18f-8a50066185a8"
      },
      "source": [
        "roc_auc_score(y_true, y_pred)"
      ],
      "execution_count": null,
      "outputs": [
        {
          "output_type": "execute_result",
          "data": {
            "text/plain": [
              "0.9321633149850984"
            ]
          },
          "metadata": {
            "tags": []
          },
          "execution_count": 114
        }
      ]
    },
    {
      "cell_type": "code",
      "metadata": {
        "id": "XesbtE7rAhzJ"
      },
      "source": [
        "# Source: Scikit Learn website\n",
        "# http://scikit-learn.org/stable/auto_examples/\n",
        "# model_selection/plot_confusion_matrix.html#sphx-glr-auto-examples-model-\n",
        "# selection-plot-confusion-matrix-py\n",
        "\n",
        "\n",
        "def plot_confusion_matrix(cm, classes,\n",
        "                          normalize=False,\n",
        "                          title='Confusion matrix',\n",
        "                          cmap=plt.cm.Blues):\n",
        "    \"\"\"\n",
        "    This function prints and plots the confusion matrix.\n",
        "    Normalization can be applied by setting `normalize=True`.\n",
        "    \"\"\"\n",
        "    if normalize:\n",
        "        cm = cm.astype('float') / cm.sum(axis=1)[:, np.newaxis]\n",
        "        print(\"Normalized confusion matrix\")\n",
        "    else:\n",
        "        print('Confusion matrix, without normalization')\n",
        "\n",
        "    print(cm)\n",
        "\n",
        "    plt.imshow(cm, interpolation='nearest', cmap=cmap)\n",
        "    plt.title(title)\n",
        "    plt.colorbar()\n",
        "    tick_marks = np.arange(len(classes))\n",
        "    plt.xticks(tick_marks, classes, rotation=45)\n",
        "    plt.yticks(tick_marks, classes)\n",
        "\n",
        "    fmt = '.2f' if normalize else 'd'\n",
        "    thresh = cm.max() / 2.\n",
        "    for i, j in itertools.product(range(cm.shape[0]), range(cm.shape[1])):\n",
        "        plt.text(j, i, format(cm[i, j], fmt),\n",
        "                 horizontalalignment=\"center\",\n",
        "                 color=\"white\" if cm[i, j] > thresh else \"black\")\n",
        "\n",
        "    plt.ylabel('True label')\n",
        "    plt.xlabel('Predicted label')\n",
        "    plt.tight_layout()"
      ],
      "execution_count": null,
      "outputs": []
    },
    {
      "cell_type": "code",
      "metadata": {
        "id": "z354_b86AhzJ"
      },
      "source": [
        "cm = confusion_matrix(y_true, y_pred)"
      ],
      "execution_count": null,
      "outputs": []
    },
    {
      "cell_type": "code",
      "metadata": {
        "colab": {
          "base_uri": "https://localhost:8080/",
          "height": 348
        },
        "id": "_9m3sodEAhzK",
        "outputId": "471ec7d9-55cf-4fb8-fda3-dce380a0b7b5"
      },
      "source": [
        "cm_plot_labels = ['no_cancer', 'has_cancer']\n",
        "\n",
        "plot_confusion_matrix(cm, cm_plot_labels, title='Confusion Matrix')"
      ],
      "execution_count": null,
      "outputs": [
        {
          "output_type": "stream",
          "text": [
            "Confusion matrix, without normalization\n",
            "[[25376   816]\n",
            " [ 1855 15893]]\n"
          ],
          "name": "stdout"
        },
        {
          "output_type": "display_data",
          "data": {
            "image/png": "[encoded data removed]",
            "text/plain": [
              "<Figure size 432x288 with 2 Axes>"
            ]
          },
          "metadata": {
            "tags": [],
            "needs_background": "light"
          }
        }
      ]
    },
    {
      "cell_type": "code",
      "metadata": {
        "colab": {
          "base_uri": "https://localhost:8080/"
        },
        "id": "HBIdeyMg3DlT",
        "outputId": "afd1d9e7-f9ce-44df-d6d7-0bf5efd3248b"
      },
      "source": [
        "f1_score(y_true, y_pred)"
      ],
      "execution_count": null,
      "outputs": [
        {
          "output_type": "execute_result",
          "data": {
            "text/plain": [
              "0.9229435227469797"
            ]
          },
          "metadata": {
            "tags": []
          },
          "execution_count": 31
        }
      ]
    },
    {
      "cell_type": "markdown",
      "metadata": {
        "id": "rey4EbeGh19z"
      },
      "source": [
        "## Data Augmentation (with image generation)"
      ]
    },
    {
      "cell_type": "markdown",
      "metadata": {
        "id": "Z85nmdZPwjGN"
      },
      "source": [
        "### Generate additional images"
      ]
    },
    {
      "cell_type": "code",
      "metadata": {
        "id": "F_e0bwvhndBk"
      },
      "source": [
        "aug = ImageDataGenerator(brightness_range=[0.3, 1], \n",
        "                         horizontal_flip=True, \n",
        "                         vertical_flip=True, \n",
        "                         channel_shift_range=150)"
      ],
      "execution_count": null,
      "outputs": []
    },
    {
      "cell_type": "code",
      "metadata": {
        "id": "8YgHMIi8mY_J"
      },
      "source": [
        "folders = ['train']#, 'test']\n",
        "labels = ['0', '1']\n",
        "# provide degree of data expansion required, 1x, 2x, 1.5x, 0.5x\n",
        "p = 1.5 #not used currently due to uncertain behaviour of imagedatagenerator"
      ],
      "execution_count": null,
      "outputs": []
    },
    {
      "cell_type": "code",
      "metadata": {
        "id": "aQiNOwbOmY_O"
      },
      "source": [
        "for folder in folders:\n",
        "    df = pd.read_csv('{}_labels.csv'.format(folder))\n",
        "    for filename, label in zip(df['id'], df['label']):\n",
        "        image = tf.keras.preprocessing.image.load_img('{}/{}/{}/{}.tif'.format('dataset_folder', folder, label, filename))\n",
        "        image = tf.keras.preprocessing.image.img_to_array(image)\n",
        "        image = np.expand_dims(image, axis=0)\n",
        "        for x, var in zip(aug.flow(image, batch_size=1, save_to_dir='{}/{}/{}/'.format('dataset_folder', folder, label), save_prefix='aug_{}'.format(filename), save_format='tif'), range(0)):\n",
        "            pass\n",
        "        #imageGen = aug.flow(image, batch_size=1, save_to_dir='{}/{}/{}/'.format('test_folder', folder, label), save_prefix='aug_{}'.format(filename), save_format='tif')\n",
        "\n",
        "        \"\"\"for itr in range(int(p)):\n",
        "          next(imageGen)\"\"\"\n",
        "        \"\"\"\n",
        "        if random.random() < (p -  int(p)):\n",
        "          next(imageGen)\n",
        "        \"\"\""
      ],
      "execution_count": null,
      "outputs": []
    },
    {
      "cell_type": "markdown",
      "metadata": {
        "id": "nED2Gh-Kue0t"
      },
      "source": [
        "### Create data generators"
      ]
    },
    {
      "cell_type": "code",
      "metadata": {
        "id": "f64cFO6Bue0t"
      },
      "source": [
        "new_base_dir = 'dataset_folder'\n",
        "training_sub_path = 'train'\n",
        "test_sub_path = 'test'"
      ],
      "execution_count": null,
      "outputs": []
    },
    {
      "cell_type": "code",
      "metadata": {
        "id": "OJavmP7tue0t"
      },
      "source": [
        "IMG_SIZE = (96, 96) \n",
        "IMG_SHAPE = IMG_SIZE + (3,)\n",
        "BATCH_SIZE = 64"
      ],
      "execution_count": null,
      "outputs": []
    },
    {
      "cell_type": "code",
      "metadata": {
        "id": "fYNgFUUyvnv6"
      },
      "source": [
        "data_generator = ImageDataGenerator(validation_split=0.2)"
      ],
      "execution_count": null,
      "outputs": []
    },
    {
      "cell_type": "code",
      "metadata": {
        "colab": {
          "base_uri": "https://localhost:8080/"
        },
        "id": "cCqTnpIavgiU",
        "outputId": "f0b8bae5-ae72-4cca-9c16-090896d47ef2"
      },
      "source": [
        "train_data_iterator = data_generator.flow_from_directory('{}/{}'.format(new_base_dir, 'train'), \n",
        "                                                         target_size=IMG_SIZE,\n",
        "                                                         class_mode='binary', \n",
        "                                                         subset='training', \n",
        "                                                         batch_size=BATCH_SIZE)"
      ],
      "execution_count": null,
      "outputs": [
        {
          "output_type": "stream",
          "text": [
            "Found 176021 images belonging to 2 classes.\n"
          ],
          "name": "stdout"
        }
      ]
    },
    {
      "cell_type": "code",
      "metadata": {
        "colab": {
          "base_uri": "https://localhost:8080/"
        },
        "id": "iJFE-i_7vgiV",
        "outputId": "20becf3f-05aa-47a2-cc53-0516f956c01a"
      },
      "source": [
        "validation_data_iterator = data_generator.flow_from_directory('{}/{}'.format(new_base_dir, 'train'), \n",
        "                                                              target_size=IMG_SIZE,\n",
        "                                                              class_mode='binary', \n",
        "                                                              subset='validation', \n",
        "                                                              batch_size=BATCH_SIZE)"
      ],
      "execution_count": null,
      "outputs": [
        {
          "output_type": "stream",
          "text": [
            "Found 44004 images belonging to 2 classes.\n"
          ],
          "name": "stdout"
        }
      ]
    },
    {
      "cell_type": "code",
      "metadata": {
        "id": "TskBvlgHue0v"
      },
      "source": [
        "STEP_SIZE_TRAIN = train_data_iterator.n//train_data_iterator.batch_size\n",
        "STEP_SIZE_VALIDATION = validation_data_iterator.n//validation_data_iterator.batch_size"
      ],
      "execution_count": null,
      "outputs": []
    },
    {
      "cell_type": "markdown",
      "metadata": {
        "id": "0kpczeJiwfwM"
      },
      "source": [
        "### Create Model"
      ]
    },
    {
      "cell_type": "code",
      "metadata": {
        "id": "wyci8IMQwfwM"
      },
      "source": [
        "preprocess_input = tf.keras.applications.mobilenet_v2.preprocess_input"
      ],
      "execution_count": null,
      "outputs": []
    },
    {
      "cell_type": "code",
      "metadata": {
        "id": "mQ_iB2PMwfwN",
        "colab": {
          "base_uri": "https://localhost:8080/"
        },
        "outputId": "75a58fb6-d3a2-4033-f43d-db278c571f3e"
      },
      "source": [
        "base_model = tf.keras.applications.MobileNetV2(input_shape=IMG_SHAPE, include_top=False, weights='imagenet')"
      ],
      "execution_count": null,
      "outputs": [
        {
          "output_type": "stream",
          "text": [
            "Downloading data from https://storage.googleapis.com/tensorflow/keras-applications/mobilenet_v2/mobilenet_v2_weights_tf_dim_ordering_tf_kernels_1.0_96_no_top.h5\n",
            "9412608/9406464 [==============================] - 0s 0us/step\n"
          ],
          "name": "stdout"
        }
      ]
    },
    {
      "cell_type": "code",
      "metadata": {
        "id": "xrDnHCXlwfwN"
      },
      "source": [
        "base_model.trainable = False"
      ],
      "execution_count": null,
      "outputs": []
    },
    {
      "cell_type": "code",
      "metadata": {
        "colab": {
          "base_uri": "https://localhost:8080/"
        },
        "id": "eJB20yC0wfwN",
        "outputId": "f12b30f3-30b0-447b-a722-d328b3fa1137"
      },
      "source": [
        "image_batch, label_batch = next(iter(train_data_iterator))\n",
        "feature_batch = base_model(image_batch)\n",
        "print(feature_batch.shape)"
      ],
      "execution_count": null,
      "outputs": [
        {
          "output_type": "stream",
          "text": [
            "(64, 3, 3, 1280)\n"
          ],
          "name": "stdout"
        }
      ]
    },
    {
      "cell_type": "code",
      "metadata": {
        "colab": {
          "base_uri": "https://localhost:8080/"
        },
        "id": "xRM66S0RwfwO",
        "outputId": "a53d569f-f2e9-48b7-c9b8-6f26bf603d54"
      },
      "source": [
        "global_average_layer = tf.keras.layers.GlobalAveragePooling2D()\n",
        "feature_batch_average = global_average_layer(feature_batch)\n",
        "print(feature_batch_average.shape)"
      ],
      "execution_count": null,
      "outputs": [
        {
          "output_type": "stream",
          "text": [
            "(64, 1280)\n"
          ],
          "name": "stdout"
        }
      ]
    },
    {
      "cell_type": "code",
      "metadata": {
        "colab": {
          "base_uri": "https://localhost:8080/"
        },
        "id": "NPF3VHGWwfwO",
        "outputId": "984f38cc-bdf0-4b90-c3e6-0ee4facd16e0"
      },
      "source": [
        "prediction_layer = tf.keras.layers.Dense(1)\n",
        "prediction_batch = prediction_layer(feature_batch_average)\n",
        "print(prediction_batch.shape)"
      ],
      "execution_count": null,
      "outputs": [
        {
          "output_type": "stream",
          "text": [
            "(64, 1)\n"
          ],
          "name": "stdout"
        }
      ]
    },
    {
      "cell_type": "code",
      "metadata": {
        "id": "zCLvwajQwfwO"
      },
      "source": [
        "inputs = tf.keras.Input(shape=IMG_SHAPE)\n",
        "x = preprocess_input(inputs)\n",
        "x = base_model(x, training=False)\n",
        "x = global_average_layer(x)\n",
        "x = tf.keras.layers.Dropout(0.2)(x)\n",
        "x = tf.keras.layers.Dense(1)(x)\n",
        "#outputs = prediction_layer(x)\n",
        "model = tf.keras.Model(inputs, x)"
      ],
      "execution_count": null,
      "outputs": []
    },
    {
      "cell_type": "code",
      "metadata": {
        "colab": {
          "base_uri": "https://localhost:8080/"
        },
        "id": "BjyF6W1mwfwP",
        "outputId": "893be80f-4d76-4147-c718-434fbbf8b459"
      },
      "source": [
        "model.summary()"
      ],
      "execution_count": null,
      "outputs": [
        {
          "output_type": "stream",
          "text": [
            "Model: \"model\"\n",
            "_________________________________________________________________\n",
            "Layer (type)                 Output Shape              Param #   \n",
            "=================================================================\n",
            "input_2 (InputLayer)         [(None, 96, 96, 3)]       0         \n",
            "_________________________________________________________________\n",
            "tf.math.truediv (TFOpLambda) (None, 96, 96, 3)         0         \n",
            "_________________________________________________________________\n",
            "tf.math.subtract (TFOpLambda (None, 96, 96, 3)         0         \n",
            "_________________________________________________________________\n",
            "mobilenetv2_1.00_96 (Functio (None, 3, 3, 1280)        2257984   \n",
            "_________________________________________________________________\n",
            "global_average_pooling2d (Gl (None, 1280)              0         \n",
            "_________________________________________________________________\n",
            "dropout (Dropout)            (None, 1280)              0         \n",
            "_________________________________________________________________\n",
            "dense_1 (Dense)              (None, 1)                 1281      \n",
            "=================================================================\n",
            "Total params: 2,259,265\n",
            "Trainable params: 1,281\n",
            "Non-trainable params: 2,257,984\n",
            "_________________________________________________________________\n"
          ],
          "name": "stdout"
        }
      ]
    },
    {
      "cell_type": "code",
      "metadata": {
        "id": "t7t1GCmA4EpD"
      },
      "source": [
        "base_learning_rate = 0.0001"
      ],
      "execution_count": null,
      "outputs": []
    },
    {
      "cell_type": "code",
      "metadata": {
        "id": "0-N5zxEBwfwP"
      },
      "source": [
        "model.compile(optimizer=tf.keras.optimizers.Adam(learning_rate=base_learning_rate), \n",
        "              loss=tf.keras.losses.BinaryCrossentropy(from_logits=True), \n",
        "              metrics=['accuracy'])"
      ],
      "execution_count": null,
      "outputs": []
    },
    {
      "cell_type": "code",
      "metadata": {
        "colab": {
          "base_uri": "https://localhost:8080/"
        },
        "id": "wsCdFWeYwfwP",
        "outputId": "5cef3d74-ef1b-4235-be19-b883edaa117e"
      },
      "source": [
        "len(model.trainable_variables)"
      ],
      "execution_count": null,
      "outputs": [
        {
          "output_type": "execute_result",
          "data": {
            "text/plain": [
              "2"
            ]
          },
          "metadata": {
            "tags": []
          },
          "execution_count": 60
        }
      ]
    },
    {
      "cell_type": "markdown",
      "metadata": {
        "id": "K9X458RhwfwP"
      },
      "source": [
        "### Train Model"
      ]
    },
    {
      "cell_type": "code",
      "metadata": {
        "id": "6HoI48L34RfY"
      },
      "source": [
        "initial_epochs = 10"
      ],
      "execution_count": null,
      "outputs": []
    },
    {
      "cell_type": "code",
      "metadata": {
        "id": "jW-HjdUOwfwP"
      },
      "source": [
        "history = model.fit(train_data_iterator, epochs=initial_epochs, validation_data=validation_data_iterator, verbose=True)"
      ],
      "execution_count": null,
      "outputs": []
    },
    {
      "cell_type": "code",
      "metadata": {
        "colab": {
          "base_uri": "https://localhost:8080/"
        },
        "id": "ikStufLmwfwQ",
        "outputId": "59433090-8c52-4059-fc04-178d2700e54b"
      },
      "source": [
        "model.save('{}/{}'.format(base_dir, 'mobileNetV2_model_dataGen.h5'))"
      ],
      "execution_count": null,
      "outputs": [
        {
          "output_type": "stream",
          "text": [
            "/usr/local/lib/python3.7/dist-packages/tensorflow/python/keras/utils/generic_utils.py:497: CustomMaskWarning: Custom mask layers require a config and must override get_config. When loading, the custom mask layer must be passed to the custom_objects argument.\n",
            "  category=CustomMaskWarning)\n"
          ],
          "name": "stderr"
        }
      ]
    },
    {
      "cell_type": "code",
      "metadata": {
        "id": "_bqXNAGTvSeX"
      },
      "source": [
        "model = tf.keras.models.load_model('{}/{}'.format(base_dir, 'mobileNetV2_model_dataGen.h5'))"
      ],
      "execution_count": null,
      "outputs": []
    },
    {
      "cell_type": "markdown",
      "metadata": {
        "id": "uEcajwzJwfwQ"
      },
      "source": [
        "### Plot loss and accuracy"
      ]
    },
    {
      "cell_type": "code",
      "metadata": {
        "colab": {
          "base_uri": "https://localhost:8080/",
          "height": 513
        },
        "id": "31y0Gi9HwfwQ",
        "outputId": "9274c7d8-5130-44dd-8cc3-a5b1b2cae4f1"
      },
      "source": [
        "acc = history.history['accuracy']\n",
        "val_acc = history.history['val_accuracy']\n",
        "\n",
        "loss = history.history['loss']\n",
        "val_loss = history.history['val_loss']\n",
        "\n",
        "plt.figure(figsize=(8, 8))\n",
        "plt.subplot(2, 1, 1)\n",
        "plt.plot(acc, label='Training Accuracy')\n",
        "plt.plot(val_acc, label='Validation Accuracy')\n",
        "plt.legend(loc='lower right')\n",
        "plt.ylabel('Accuracy')\n",
        "plt.ylim([min(plt.ylim()),1])\n",
        "plt.title('Training and Validation Accuracy')\n",
        "\n",
        "plt.subplot(2, 1, 2)\n",
        "plt.plot(loss, label='Training Loss')\n",
        "plt.plot(val_loss, label='Validation Loss')\n",
        "plt.legend(loc='upper right')\n",
        "plt.ylabel('Cross Entropy')\n",
        "plt.ylim([0,1.0])\n",
        "plt.title('Training and Validation Loss')\n",
        "plt.xlabel('epoch')\n",
        "plt.show()"
      ],
      "execution_count": null,
      "outputs": [
        {
          "output_type": "display_data",
          "data": {
            "image/png": "[encoded data removed]",
            "text/plain": [
              "<Figure size 576x576 with 2 Axes>"
            ]
          },
          "metadata": {
            "tags": [],
            "needs_background": "light"
          }
        }
      ]
    },
    {
      "cell_type": "markdown",
      "metadata": {
        "id": "dhffPuwPwfwQ"
      },
      "source": [
        "### Fine tune model"
      ]
    },
    {
      "cell_type": "code",
      "metadata": {
        "id": "_l9rRMSVwfwQ"
      },
      "source": [
        "base_model.trainable = True"
      ],
      "execution_count": null,
      "outputs": []
    },
    {
      "cell_type": "code",
      "metadata": {
        "id": "JGOtjCCiwfwQ"
      },
      "source": [
        "fine_tune_at = 100\n",
        "\n",
        "for layer in base_model.layers[:fine_tune_at]:\n",
        "  layer.trainable = False"
      ],
      "execution_count": null,
      "outputs": []
    },
    {
      "cell_type": "code",
      "metadata": {
        "id": "zWECEpNnwfwR"
      },
      "source": [
        "model.compile(loss=tf.keras.losses.BinaryCrossentropy(from_logits=True), \n",
        "              optimizer=tf.keras.optimizers.RMSprop(learning_rate=base_learning_rate/10),\n",
        "              metrics=['accuracy'])"
      ],
      "execution_count": null,
      "outputs": []
    },
    {
      "cell_type": "code",
      "metadata": {
        "colab": {
          "base_uri": "https://localhost:8080/"
        },
        "id": "kevAIiOawfwR",
        "outputId": "f092f6a6-d3f1-4aa2-ffa6-1143c6b144e7"
      },
      "source": [
        "model.summary()"
      ],
      "execution_count": null,
      "outputs": [
        {
          "output_type": "stream",
          "text": [
            "Model: \"model\"\n",
            "_________________________________________________________________\n",
            "Layer (type)                 Output Shape              Param #   \n",
            "=================================================================\n",
            "input_2 (InputLayer)         [(None, 96, 96, 3)]       0         \n",
            "_________________________________________________________________\n",
            "tf.math.truediv (TFOpLambda) (None, 96, 96, 3)         0         \n",
            "_________________________________________________________________\n",
            "tf.math.subtract (TFOpLambda (None, 96, 96, 3)         0         \n",
            "_________________________________________________________________\n",
            "mobilenetv2_1.00_96 (Functio (None, 3, 3, 1280)        2257984   \n",
            "_________________________________________________________________\n",
            "global_average_pooling2d (Gl (None, 1280)              0         \n",
            "_________________________________________________________________\n",
            "dropout (Dropout)            (None, 1280)              0         \n",
            "_________________________________________________________________\n",
            "dense_1 (Dense)              (None, 1)                 1281      \n",
            "=================================================================\n",
            "Total params: 2,259,265\n",
            "Trainable params: 1,862,721\n",
            "Non-trainable params: 396,544\n",
            "_________________________________________________________________\n"
          ],
          "name": "stdout"
        }
      ]
    },
    {
      "cell_type": "code",
      "metadata": {
        "colab": {
          "base_uri": "https://localhost:8080/"
        },
        "id": "iefNjFg9wfwR",
        "outputId": "bedf3268-545a-4943-a0e8-68eebe5f125b"
      },
      "source": [
        "len(model.trainable_variables)"
      ],
      "execution_count": null,
      "outputs": [
        {
          "output_type": "execute_result",
          "data": {
            "text/plain": [
              "56"
            ]
          },
          "metadata": {
            "tags": []
          },
          "execution_count": 69
        }
      ]
    },
    {
      "cell_type": "markdown",
      "metadata": {
        "id": "howFYywBwfwR"
      },
      "source": [
        "### Train fine tuned model"
      ]
    },
    {
      "cell_type": "code",
      "metadata": {
        "id": "5RS5IkrVwfwR"
      },
      "source": [
        "fine_tune_epochs = 10\n",
        "total_epochs = initial_epochs + fine_tune_epochs\n",
        "\n",
        "history_fine = model.fit(train_data_iterator, \n",
        "                         epochs=total_epochs, \n",
        "                         initial_epoch=history.epoch[-1], \n",
        "                         validation_data=validation_data_iterator)"
      ],
      "execution_count": null,
      "outputs": []
    },
    {
      "cell_type": "markdown",
      "metadata": {
        "id": "HQapXUxTwfwR"
      },
      "source": [
        "### Plot improved loss and accuracy"
      ]
    },
    {
      "cell_type": "code",
      "metadata": {
        "id": "ejRcZ2jswfwS"
      },
      "source": [
        "acc += history_fine.history['accuracy']\n",
        "val_acc += history_fine.history['val_accuracy']\n",
        "\n",
        "loss += history_fine.history['loss']\n",
        "val_loss += history_fine.history['val_loss']"
      ],
      "execution_count": null,
      "outputs": []
    },
    {
      "cell_type": "code",
      "metadata": {
        "id": "yfhz8vfywfwS",
        "colab": {
          "base_uri": "https://localhost:8080/",
          "height": 513
        },
        "outputId": "0f575070-f8cc-4269-8911-d7df321c96a4"
      },
      "source": [
        "plt.figure(figsize=(8, 8))\n",
        "plt.subplot(2, 1, 1)\n",
        "plt.plot(acc, label='Training Accuracy')\n",
        "plt.plot(val_acc, label='Validation Accuracy')\n",
        "plt.ylim([0.8, 1])\n",
        "plt.plot([initial_epochs-1,initial_epochs-1],\n",
        "          plt.ylim(), label='Start Fine Tuning')\n",
        "plt.legend(loc='lower right')\n",
        "plt.title('Training and Validation Accuracy')\n",
        "\n",
        "plt.subplot(2, 1, 2)\n",
        "plt.plot(loss, label='Training Loss')\n",
        "plt.plot(val_loss, label='Validation Loss')\n",
        "plt.ylim([0, 1.0])\n",
        "plt.plot([initial_epochs-1,initial_epochs-1],\n",
        "         plt.ylim(), label='Start Fine Tuning')\n",
        "plt.legend(loc='upper right')\n",
        "plt.title('Training and Validation Loss')\n",
        "plt.xlabel('epoch')\n",
        "plt.show()"
      ],
      "execution_count": null,
      "outputs": [
        {
          "output_type": "display_data",
          "data": {
            "image/png": "[encoded data removed]",
            "text/plain": [
              "<Figure size 576x576 with 2 Axes>"
            ]
          },
          "metadata": {
            "tags": [],
            "needs_background": "light"
          }
        }
      ]
    },
    {
      "cell_type": "code",
      "metadata": {
        "id": "-cGRH-QqwfwS",
        "colab": {
          "base_uri": "https://localhost:8080/"
        },
        "outputId": "888284b5-51f7-4183-8ead-bc7de5e84e2a"
      },
      "source": [
        "model.save('{}/{}'.format(base_dir, 'mobileNetV2_model_dataGen_tuned.h5'))"
      ],
      "execution_count": null,
      "outputs": [
        {
          "output_type": "stream",
          "text": [
            "/usr/local/lib/python3.7/dist-packages/tensorflow/python/keras/utils/generic_utils.py:497: CustomMaskWarning: Custom mask layers require a config and must override get_config. When loading, the custom mask layer must be passed to the custom_objects argument.\n",
            "  category=CustomMaskWarning)\n"
          ],
          "name": "stderr"
        }
      ]
    },
    {
      "cell_type": "code",
      "metadata": {
        "id": "lIC1CLzu_-CZ"
      },
      "source": [
        "model = tf.keras.models.load_model('{}/{}'.format(base_dir, 'mobileNetV2_model_dataGen_tuned.h5'))"
      ],
      "execution_count": null,
      "outputs": []
    },
    {
      "cell_type": "markdown",
      "metadata": {
        "id": "DfgQ5Pkz_-e6"
      },
      "source": [
        "### Confusion Matrix"
      ]
    },
    {
      "cell_type": "code",
      "metadata": {
        "id": "AxplJnSb_-e8"
      },
      "source": [
        "sample, labels = validation_data_iterator.next()\n",
        "predictions = model.predict(sample)\n",
        "batches = 1\n",
        "for x, y in validation_data_iterator:\n",
        "  predictions = np.append(predictions, model.predict(x), axis=0)\n",
        "  labels = np.append(labels, y)\n",
        "  batches = batches + 1\n",
        "  if batches >= STEP_SIZE_VALIDATION:\n",
        "    break"
      ],
      "execution_count": null,
      "outputs": []
    },
    {
      "cell_type": "code",
      "metadata": {
        "id": "jHNcKz0I_-e-"
      },
      "source": [
        "predictions[predictions < 0] = 0\n",
        "predictions[predictions > 0] = 1"
      ],
      "execution_count": null,
      "outputs": []
    },
    {
      "cell_type": "code",
      "metadata": {
        "id": "xv1j7XKy_-e_"
      },
      "source": [
        "y_true = labels\n",
        "y_pred = predictions "
      ],
      "execution_count": null,
      "outputs": []
    },
    {
      "cell_type": "code",
      "metadata": {
        "colab": {
          "base_uri": "https://localhost:8080/"
        },
        "id": "xa_zHZQV_-e_",
        "outputId": "8ab65611-63e6-4ede-9247-5e23b93c6a1d"
      },
      "source": [
        "roc_auc_score(y_true, y_pred)"
      ],
      "execution_count": null,
      "outputs": [
        {
          "output_type": "execute_result",
          "data": {
            "text/plain": [
              "0.9366879296958311"
            ]
          },
          "metadata": {
            "tags": []
          },
          "execution_count": 94
        }
      ]
    },
    {
      "cell_type": "code",
      "metadata": {
        "id": "9sMIFchl_-fB"
      },
      "source": [
        "# Source: Scikit Learn website\n",
        "# http://scikit-learn.org/stable/auto_examples/\n",
        "# model_selection/plot_confusion_matrix.html#sphx-glr-auto-examples-model-\n",
        "# selection-plot-confusion-matrix-py\n",
        "\n",
        "\n",
        "def plot_confusion_matrix(cm, classes,\n",
        "                          normalize=False,\n",
        "                          title='Confusion matrix',\n",
        "                          cmap=plt.cm.Blues):\n",
        "    \"\"\"\n",
        "    This function prints and plots the confusion matrix.\n",
        "    Normalization can be applied by setting `normalize=True`.\n",
        "    \"\"\"\n",
        "    if normalize:\n",
        "        cm = cm.astype('float') / cm.sum(axis=1)[:, np.newaxis]\n",
        "        print(\"Normalized confusion matrix\")\n",
        "    else:\n",
        "        print('Confusion matrix, without normalization')\n",
        "\n",
        "    print(cm)\n",
        "\n",
        "    plt.imshow(cm, interpolation='nearest', cmap=cmap)\n",
        "    plt.title(title)\n",
        "    plt.colorbar()\n",
        "    tick_marks = np.arange(len(classes))\n",
        "    plt.xticks(tick_marks, classes, rotation=45)\n",
        "    plt.yticks(tick_marks, classes)\n",
        "\n",
        "    fmt = '.2f' if normalize else 'd'\n",
        "    thresh = cm.max() / 2.\n",
        "    for i, j in itertools.product(range(cm.shape[0]), range(cm.shape[1])):\n",
        "        plt.text(j, i, format(cm[i, j], fmt),\n",
        "                 horizontalalignment=\"center\",\n",
        "                 color=\"white\" if cm[i, j] > thresh else \"black\")\n",
        "\n",
        "    plt.ylabel('True label')\n",
        "    plt.xlabel('Predicted label')\n",
        "    plt.tight_layout()"
      ],
      "execution_count": null,
      "outputs": []
    },
    {
      "cell_type": "code",
      "metadata": {
        "id": "soUH4JrH_-fC"
      },
      "source": [
        "cm = confusion_matrix(y_true, y_pred)"
      ],
      "execution_count": null,
      "outputs": []
    },
    {
      "cell_type": "code",
      "metadata": {
        "colab": {
          "base_uri": "https://localhost:8080/",
          "height": 348
        },
        "id": "WEYZDKid_-fC",
        "outputId": "63fad8d8-b436-4a77-9c20-304a68e9d3fe"
      },
      "source": [
        "cm_plot_labels = ['no_cancer', 'has_cancer']\n",
        "\n",
        "plot_confusion_matrix(cm, cm_plot_labels, title='Confusion Matrix')"
      ],
      "execution_count": null,
      "outputs": [
        {
          "output_type": "stream",
          "text": [
            "Confusion matrix, without normalization\n",
            "[[24373  1823]\n",
            " [ 1012 16732]]\n"
          ],
          "name": "stdout"
        },
        {
          "output_type": "display_data",
          "data": {
            "image/png": "[encoded data removed]",
            "text/plain": [
              "<Figure size 432x288 with 2 Axes>"
            ]
          },
          "metadata": {
            "tags": [],
            "needs_background": "light"
          }
        }
      ]
    },
    {
      "cell_type": "code",
      "metadata": {
        "colab": {
          "base_uri": "https://localhost:8080/"
        },
        "id": "NaMG5olB3MbC",
        "outputId": "13d2545f-9d11-4429-f756-0f60c4d00828"
      },
      "source": [
        "f1_score(y_true, y_pred)"
      ],
      "execution_count": null,
      "outputs": [
        {
          "output_type": "execute_result",
          "data": {
            "text/plain": [
              "0.9219316558619932"
            ]
          },
          "metadata": {
            "tags": []
          },
          "execution_count": 41
        }
      ]
    },
    {
      "cell_type": "markdown",
      "metadata": {
        "id": "hWX3tt3fMLM-"
      },
      "source": [
        "## Data Augmentation (with replacement) 30"
      ]
    },
    {
      "cell_type": "markdown",
      "metadata": {
        "id": "1TH3X7a_MLM_"
      },
      "source": [
        "### Create data generators"
      ]
    },
    {
      "cell_type": "code",
      "metadata": {
        "id": "hAXja3FiMLM_"
      },
      "source": [
        "new_base_dir = 'dataset_folder'\n",
        "training_sub_path = 'train'\n",
        "test_sub_path = 'test'"
      ],
      "execution_count": null,
      "outputs": []
    },
    {
      "cell_type": "code",
      "metadata": {
        "id": "LrGcu8pZMLNA"
      },
      "source": [
        "IMG_SIZE = (96, 96) \n",
        "IMG_SHAPE = IMG_SIZE + (3,)\n",
        "BATCH_SIZE = 64"
      ],
      "execution_count": null,
      "outputs": []
    },
    {
      "cell_type": "code",
      "metadata": {
        "id": "gOpZN7-EMsbo"
      },
      "source": [
        "def add_noise_rotate(img_array):\n",
        "    noise = np.random.randint(-5,6, img_array.shape)\n",
        "    noise = noise \n",
        "    img = img_array + noise\n",
        "    np.putmask(img, img < 0, 0)\n",
        "    np.putmask(img, img > 255, 255)\n",
        "    rot_angle = np.random.randint(0,4)\n",
        "    img = np.rot90(img, rot_angle)\n",
        "    return img"
      ],
      "execution_count": null,
      "outputs": []
    },
    {
      "cell_type": "code",
      "metadata": {
        "id": "Vf0aB-J6M2n3"
      },
      "source": [
        "train_csv = 'train_labels.csv'\n",
        "test_csv = 'sample_submission.csv'\n",
        "\n",
        "traindf=pd.read_csv(train_csv,dtype=str)\n",
        "testdf=pd.read_csv(test_csv,dtype=str)\n",
        "\n",
        "def append_ext(fn):\n",
        "    return fn+\".tif\"\n",
        "\n",
        "traindf[\"id\"]=traindf[\"id\"].apply(append_ext)\n",
        "testdf[\"id\"]=testdf[\"id\"].apply(append_ext)\n",
        "\n",
        "\n",
        "train_df,val_df1=train_test_split(traindf,test_size=0.3,random_state=42,stratify=traindf['label'])\n",
        "val_df,test_df=train_test_split(val_df1,test_size=0.33,random_state=42,stratify=val_df1['label'])"
      ],
      "execution_count": null,
      "outputs": []
    },
    {
      "cell_type": "code",
      "metadata": {
        "id": "VBXmWFZ_Mz_K"
      },
      "source": [
        "data_generator = ImageDataGenerator(brightness_range=[0.3, 1], \n",
        "                                    horizontal_flip=True, \n",
        "                                    vertical_flip=True,\n",
        "                                    preprocessing_function=add_noise_rotate)\n",
        "data_generator_noaug = ImageDataGenerator()"
      ],
      "execution_count": null,
      "outputs": []
    },
    {
      "cell_type": "code",
      "metadata": {
        "id": "kynvOl_TMyMo",
        "colab": {
          "base_uri": "https://localhost:8080/"
        },
        "outputId": "6470a718-9622-4805-eb85-5c82573d9419"
      },
      "source": [
        "train_data_iterator=data_generator.flow_from_dataframe(dataframe=train_df,\n",
        "                                                 directory='train',\n",
        "                                                 x_col=\"id\",\n",
        "                                                 y_col=\"label\",\n",
        "                                                 batch_size=BATCH_SIZE,\n",
        "                                                 seed=42,\n",
        "                                                 shuffle=False,\n",
        "                                                 class_mode=\"binary\",\n",
        "                                                 target_size=IMG_SIZE)\n",
        "\n",
        "validation_data_iterator=data_generator.flow_from_dataframe(dataframe=val_df,\n",
        "                                                      directory='train',\n",
        "                                                      x_col=\"id\",\n",
        "                                                      y_col=\"label\",\n",
        "                                                      batch_size=BATCH_SIZE,\n",
        "                                                      seed=42,\n",
        "                                                      shuffle=False,\n",
        "                                                      class_mode=\"binary\",\n",
        "                                                      target_size=IMG_SIZE)\n",
        "\n",
        "test_data_iterator = data_generator_noaug.flow_from_dataframe(dataframe=test_df,\n",
        "                                                         directory='train',\n",
        "                                                         x_col=\"id\",\n",
        "                                                         y_col=\"label\",\n",
        "                                                         batch_size=1,\n",
        "                                                         seed=42,\n",
        "                                                         shuffle=False,\n",
        "                                                         class_mode=\"binary\",\n",
        "                                                         target_size=IMG_SIZE)"
      ],
      "execution_count": null,
      "outputs": [
        {
          "output_type": "stream",
          "text": [
            "Found 154017 validated image filenames belonging to 2 classes.\n",
            "Found 44225 validated image filenames belonging to 2 classes.\n",
            "Found 21783 validated image filenames belonging to 2 classes.\n"
          ],
          "name": "stdout"
        }
      ]
    },
    {
      "cell_type": "code",
      "metadata": {
        "id": "ynOGi7JtMLNC"
      },
      "source": [
        "STEP_SIZE_TRAIN = train_data_iterator.n//train_data_iterator.batch_size\n",
        "STEP_SIZE_VALIDATION = validation_data_iterator.n//validation_data_iterator.batch_size\n",
        "STEP_SIZE_test = test_data_iterator.n//test_data_iterator.batch_size"
      ],
      "execution_count": null,
      "outputs": []
    },
    {
      "cell_type": "markdown",
      "metadata": {
        "id": "TfFn-FYOMLND"
      },
      "source": [
        "### Create Model"
      ]
    },
    {
      "cell_type": "code",
      "metadata": {
        "id": "B3byS_1bMLND"
      },
      "source": [
        "preprocess_input = tf.keras.applications.mobilenet_v2.preprocess_input"
      ],
      "execution_count": null,
      "outputs": []
    },
    {
      "cell_type": "code",
      "metadata": {
        "colab": {
          "base_uri": "https://localhost:8080/"
        },
        "id": "Y-M4BcDOMLND",
        "outputId": "bf2de841-dd94-4274-c892-1064ce1094af"
      },
      "source": [
        "base_model = tf.keras.applications.MobileNetV2(input_shape=IMG_SHAPE, include_top=False, weights='imagenet')"
      ],
      "execution_count": null,
      "outputs": [
        {
          "output_type": "stream",
          "text": [
            "Downloading data from https://storage.googleapis.com/tensorflow/keras-applications/mobilenet_v2/mobilenet_v2_weights_tf_dim_ordering_tf_kernels_1.0_96_no_top.h5\n",
            "9412608/9406464 [==============================] - 0s 0us/step\n"
          ],
          "name": "stdout"
        }
      ]
    },
    {
      "cell_type": "code",
      "metadata": {
        "id": "sJQpqSKoMLND"
      },
      "source": [
        "base_model.trainable = False"
      ],
      "execution_count": null,
      "outputs": []
    },
    {
      "cell_type": "code",
      "metadata": {
        "colab": {
          "base_uri": "https://localhost:8080/"
        },
        "id": "KxGB1QEYMLNE",
        "outputId": "9fa9782b-8c60-4aa6-afb2-7c519ac6d921"
      },
      "source": [
        "image_batch, label_batch = next(iter(train_data_iterator))\n",
        "feature_batch = base_model(image_batch)\n",
        "print(feature_batch.shape)"
      ],
      "execution_count": null,
      "outputs": [
        {
          "output_type": "stream",
          "text": [
            "(64, 3, 3, 1280)\n"
          ],
          "name": "stdout"
        }
      ]
    },
    {
      "cell_type": "code",
      "metadata": {
        "colab": {
          "base_uri": "https://localhost:8080/"
        },
        "id": "5CMTw_VAMLNE",
        "outputId": "4661ba80-fbd4-4690-e453-915e6c1071d2"
      },
      "source": [
        "global_average_layer = tf.keras.layers.GlobalAveragePooling2D()\n",
        "feature_batch_average = global_average_layer(feature_batch)\n",
        "print(feature_batch_average.shape)"
      ],
      "execution_count": null,
      "outputs": [
        {
          "output_type": "stream",
          "text": [
            "(64, 1280)\n"
          ],
          "name": "stdout"
        }
      ]
    },
    {
      "cell_type": "code",
      "metadata": {
        "colab": {
          "base_uri": "https://localhost:8080/"
        },
        "id": "KRZqwIF8MLNF",
        "outputId": "fe3b15ea-b164-4f9d-81aa-e7a790cfc663"
      },
      "source": [
        "prediction_layer = tf.keras.layers.Dense(1)\n",
        "prediction_batch = prediction_layer(feature_batch_average)\n",
        "print(prediction_batch.shape)"
      ],
      "execution_count": null,
      "outputs": [
        {
          "output_type": "stream",
          "text": [
            "(64, 1)\n"
          ],
          "name": "stdout"
        }
      ]
    },
    {
      "cell_type": "code",
      "metadata": {
        "id": "4FT7LOfEMLNF"
      },
      "source": [
        "inputs = tf.keras.Input(shape=IMG_SHAPE)\n",
        "x = preprocess_input(inputs)\n",
        "x = base_model(x, training=False)\n",
        "x = global_average_layer(x)\n",
        "x = tf.keras.layers.Dropout(0.2)(x)\n",
        "x = tf.keras.layers.Dense(1)(x)\n",
        "#outputs = prediction_layer(x)\n",
        "model = tf.keras.Model(inputs, x)"
      ],
      "execution_count": null,
      "outputs": []
    },
    {
      "cell_type": "code",
      "metadata": {
        "colab": {
          "base_uri": "https://localhost:8080/"
        },
        "id": "8EcBKMUoMLNF",
        "outputId": "61b1bc55-e7a9-40b9-8ea5-891ec81c64bb"
      },
      "source": [
        "model.summary()"
      ],
      "execution_count": null,
      "outputs": [
        {
          "output_type": "stream",
          "text": [
            "Model: \"model_1\"\n",
            "_________________________________________________________________\n",
            "Layer (type)                 Output Shape              Param #   \n",
            "=================================================================\n",
            "input_3 (InputLayer)         [(None, 96, 96, 3)]       0         \n",
            "_________________________________________________________________\n",
            "tf.math.truediv_1 (TFOpLambd (None, 96, 96, 3)         0         \n",
            "_________________________________________________________________\n",
            "tf.math.subtract_1 (TFOpLamb (None, 96, 96, 3)         0         \n",
            "_________________________________________________________________\n",
            "mobilenetv2_1.00_96 (Functio (None, 3, 3, 1280)        2257984   \n",
            "_________________________________________________________________\n",
            "global_average_pooling2d (Gl (None, 1280)              0         \n",
            "_________________________________________________________________\n",
            "dropout_1 (Dropout)          (None, 1280)              0         \n",
            "_________________________________________________________________\n",
            "dense_2 (Dense)              (None, 1)                 1281      \n",
            "=================================================================\n",
            "Total params: 2,259,265\n",
            "Trainable params: 1,281\n",
            "Non-trainable params: 2,257,984\n",
            "_________________________________________________________________\n"
          ],
          "name": "stdout"
        }
      ]
    },
    {
      "cell_type": "code",
      "metadata": {
        "id": "45XnT04FtLeN"
      },
      "source": [
        "base_learning_rate = 0.0001"
      ],
      "execution_count": null,
      "outputs": []
    },
    {
      "cell_type": "code",
      "metadata": {
        "id": "ybJcsIInMLNF"
      },
      "source": [
        "model.compile(optimizer=tf.keras.optimizers.Adam(learning_rate=base_learning_rate), \n",
        "              loss=tf.keras.losses.BinaryCrossentropy(from_logits=True), \n",
        "              metrics=['accuracy'])"
      ],
      "execution_count": null,
      "outputs": []
    },
    {
      "cell_type": "code",
      "metadata": {
        "id": "1KnM1BVIMLNG"
      },
      "source": [
        "len(model.trainable_variables)"
      ],
      "execution_count": null,
      "outputs": []
    },
    {
      "cell_type": "markdown",
      "metadata": {
        "id": "zfFYDW27MLNG"
      },
      "source": [
        "### Train Model"
      ]
    },
    {
      "cell_type": "code",
      "metadata": {
        "id": "mcEn3fnfUbYb"
      },
      "source": [
        "initial_epochs = 30"
      ],
      "execution_count": null,
      "outputs": []
    },
    {
      "cell_type": "code",
      "metadata": {
        "id": "bMngS_5kUdbq"
      },
      "source": [
        "filepath = '{}/{}'.format(base_dir, 'mobileNetV2_model_dataAug_30.h5')\n",
        "checkpoint = ModelCheckpoint(filepath, \n",
        "                             monitor='val_accuracy', \n",
        "                             verbose=1, \n",
        "                             save_best_only=True, \n",
        "                             mode='max')\n",
        "\n",
        "callbacks_list = [checkpoint]"
      ],
      "execution_count": null,
      "outputs": []
    },
    {
      "cell_type": "code",
      "metadata": {
        "id": "OiownR0aMLNG"
      },
      "source": [
        "history = model.fit(train_data_iterator, \n",
        "                    epochs=initial_epochs, \n",
        "                    validation_data=validation_data_iterator,\n",
        "                    verbose=True,\n",
        "                    callbacks=callbacks_list)"
      ],
      "execution_count": null,
      "outputs": []
    },
    {
      "cell_type": "code",
      "metadata": {
        "colab": {
          "base_uri": "https://localhost:8080/"
        },
        "id": "7uO-bU3vMLNG",
        "outputId": "d6b7481f-bb41-4846-cb20-e7f8828dbf5e"
      },
      "source": [
        "model.save('{}/{}'.format(base_dir, 'mobileNetV2_model_dataAug_30.h5'))"
      ],
      "execution_count": null,
      "outputs": [
        {
          "output_type": "stream",
          "text": [
            "/usr/local/lib/python3.7/dist-packages/tensorflow/python/keras/utils/generic_utils.py:497: CustomMaskWarning: Custom mask layers require a config and must override get_config. When loading, the custom mask layer must be passed to the custom_objects argument.\n",
            "  category=CustomMaskWarning)\n"
          ],
          "name": "stderr"
        }
      ]
    },
    {
      "cell_type": "markdown",
      "metadata": {
        "id": "_3NvHWYgMLNH"
      },
      "source": [
        "### Plot loss and accuracy"
      ]
    },
    {
      "cell_type": "code",
      "metadata": {
        "colab": {
          "base_uri": "https://localhost:8080/",
          "height": 513
        },
        "id": "MaC0pHkXMLNH",
        "outputId": "fd02d94b-0fb4-4217-ad3c-92673d012548"
      },
      "source": [
        "acc = history.history['accuracy']\n",
        "val_acc = history.history['val_accuracy']\n",
        "\n",
        "loss = history.history['loss']\n",
        "val_loss = history.history['val_loss']\n",
        "\n",
        "plt.figure(figsize=(8, 8))\n",
        "plt.subplot(2, 1, 1)\n",
        "plt.plot(acc, label='Training Accuracy')\n",
        "plt.plot(val_acc, label='Validation Accuracy')\n",
        "plt.legend(loc='lower right')\n",
        "plt.ylabel('Accuracy')\n",
        "plt.ylim([min(plt.ylim()),1])\n",
        "plt.title('Training and Validation Accuracy')\n",
        "\n",
        "plt.subplot(2, 1, 2)\n",
        "plt.plot(loss, label='Training Loss')\n",
        "plt.plot(val_loss, label='Validation Loss')\n",
        "plt.legend(loc='upper right')\n",
        "plt.ylabel('Cross Entropy')\n",
        "plt.ylim([0,1.0])\n",
        "plt.title('Training and Validation Loss')\n",
        "plt.xlabel('epoch')\n",
        "plt.show()"
      ],
      "execution_count": null,
      "outputs": [
        {
          "output_type": "display_data",
          "data": {
            "image/png": "[encoded data removed]",
            "text/plain": [
              "<Figure size 576x576 with 2 Axes>"
            ]
          },
          "metadata": {
            "tags": [],
            "needs_background": "light"
          }
        }
      ]
    },
    {
      "cell_type": "markdown",
      "metadata": {
        "id": "meZnl5A2MLNH"
      },
      "source": [
        "### Fine tune model"
      ]
    },
    {
      "cell_type": "code",
      "metadata": {
        "id": "gjWNwlP0MLNH"
      },
      "source": [
        "base_model.trainable = True"
      ],
      "execution_count": null,
      "outputs": []
    },
    {
      "cell_type": "code",
      "metadata": {
        "id": "gHKQl0frMLNI"
      },
      "source": [
        "fine_tune_at = 100\n",
        "\n",
        "for layer in base_model.layers[:fine_tune_at]:\n",
        "  layer.trainable = False"
      ],
      "execution_count": null,
      "outputs": []
    },
    {
      "cell_type": "code",
      "metadata": {
        "id": "i5sMNmU6MLNI"
      },
      "source": [
        "model.compile(loss=tf.keras.losses.BinaryCrossentropy(from_logits=True), \n",
        "              optimizer=tf.keras.optimizers.Adam(learning_rate=base_learning_rate/10),\n",
        "              metrics=['accuracy'])"
      ],
      "execution_count": null,
      "outputs": []
    },
    {
      "cell_type": "code",
      "metadata": {
        "colab": {
          "base_uri": "https://localhost:8080/"
        },
        "id": "_wtzkcI2MLNI",
        "outputId": "75c26805-bac4-4c09-b198-a81c632de180"
      },
      "source": [
        "model.summary()"
      ],
      "execution_count": null,
      "outputs": [
        {
          "output_type": "stream",
          "text": [
            "Model: \"model_1\"\n",
            "_________________________________________________________________\n",
            "Layer (type)                 Output Shape              Param #   \n",
            "=================================================================\n",
            "input_3 (InputLayer)         [(None, 96, 96, 3)]       0         \n",
            "_________________________________________________________________\n",
            "tf.math.truediv_1 (TFOpLambd (None, 96, 96, 3)         0         \n",
            "_________________________________________________________________\n",
            "tf.math.subtract_1 (TFOpLamb (None, 96, 96, 3)         0         \n",
            "_________________________________________________________________\n",
            "mobilenetv2_1.00_96 (Functio (None, 3, 3, 1280)        2257984   \n",
            "_________________________________________________________________\n",
            "global_average_pooling2d (Gl (None, 1280)              0         \n",
            "_________________________________________________________________\n",
            "dropout_1 (Dropout)          (None, 1280)              0         \n",
            "_________________________________________________________________\n",
            "dense_2 (Dense)              (None, 1)                 1281      \n",
            "=================================================================\n",
            "Total params: 2,259,265\n",
            "Trainable params: 1,862,721\n",
            "Non-trainable params: 396,544\n",
            "_________________________________________________________________\n"
          ],
          "name": "stdout"
        }
      ]
    },
    {
      "cell_type": "code",
      "metadata": {
        "colab": {
          "base_uri": "https://localhost:8080/"
        },
        "id": "UUuoK2P-MLNI",
        "outputId": "50cea5ac-03d5-48a5-8943-3a5210b9d247"
      },
      "source": [
        "len(model.trainable_variables)"
      ],
      "execution_count": null,
      "outputs": [
        {
          "output_type": "execute_result",
          "data": {
            "text/plain": [
              "56"
            ]
          },
          "metadata": {
            "tags": []
          },
          "execution_count": 41
        }
      ]
    },
    {
      "cell_type": "markdown",
      "metadata": {
        "id": "MeZIk2LjMLNI"
      },
      "source": [
        "### Train fine tuned model"
      ]
    },
    {
      "cell_type": "code",
      "metadata": {
        "id": "xniAbR3OVD1G"
      },
      "source": [
        "fine_tune_epochs = 30\n",
        "total_epochs = initial_epochs + fine_tune_epochs"
      ],
      "execution_count": null,
      "outputs": []
    },
    {
      "cell_type": "code",
      "metadata": {
        "id": "RZ8bwFiaVFCi"
      },
      "source": [
        "filepath = '{}/{}'.format(base_dir, 'mobileNetV2_model_dataAug_tuned_30.h5')\n",
        "checkpoint = ModelCheckpoint(filepath, \n",
        "                             monitor='val_accuracy', \n",
        "                             verbose=1, \n",
        "                             save_best_only=True, \n",
        "                             mode='max')\n",
        "\n",
        "callbacks_list = [checkpoint]"
      ],
      "execution_count": null,
      "outputs": []
    },
    {
      "cell_type": "code",
      "metadata": {
        "id": "Z9kbuiDTMLNJ"
      },
      "source": [
        "history_fine = model.fit(train_data_iterator, \n",
        "                         epochs=total_epochs, \n",
        "                         initial_epoch=59,#history.epoch[-1], \n",
        "                         validation_data=validation_data_iterator, \n",
        "                         verbose=True, \n",
        "                         callbacks=callbacks_list)"
      ],
      "execution_count": null,
      "outputs": []
    },
    {
      "cell_type": "markdown",
      "metadata": {
        "id": "iaztIpzcMLNJ"
      },
      "source": [
        "### Plot improved loss and accuracy"
      ]
    },
    {
      "cell_type": "code",
      "metadata": {
        "id": "w40ztD2PMLNJ"
      },
      "source": [
        "acc += history_fine.history['accuracy']\n",
        "val_acc += history_fine.history['val_accuracy']\n",
        "\n",
        "loss += history_fine.history['loss']\n",
        "val_loss += history_fine.history['val_loss']"
      ],
      "execution_count": null,
      "outputs": []
    },
    {
      "cell_type": "code",
      "metadata": {
        "id": "0k4svVMkMLNJ",
        "colab": {
          "base_uri": "https://localhost:8080/",
          "height": 513
        },
        "outputId": "367a3756-b6c6-4ec9-acdd-ebc6885f97a7"
      },
      "source": [
        "plt.figure(figsize=(8, 8))\n",
        "plt.subplot(2, 1, 1)\n",
        "plt.plot(acc, label='Training Accuracy')\n",
        "plt.plot(val_acc, label='Validation Accuracy')\n",
        "plt.ylim([0.8, 1])\n",
        "plt.plot([initial_epochs-1,initial_epochs-1],\n",
        "          plt.ylim(), label='Start Fine Tuning')\n",
        "plt.legend(loc='lower right')\n",
        "plt.title('Training and Validation Accuracy')\n",
        "\n",
        "plt.subplot(2, 1, 2)\n",
        "plt.plot(loss, label='Training Loss')\n",
        "plt.plot(val_loss, label='Validation Loss')\n",
        "plt.ylim([0, 1.0])\n",
        "plt.plot([initial_epochs-1,initial_epochs-1],\n",
        "         plt.ylim(), label='Start Fine Tuning')\n",
        "plt.legend(loc='upper right')\n",
        "plt.title('Training and Validation Loss')\n",
        "plt.xlabel('epoch')\n",
        "plt.show()"
      ],
      "execution_count": null,
      "outputs": [
        {
          "output_type": "display_data",
          "data": {
            "image/png": "[encoded data removed]",
            "text/plain": [
              "<Figure size 576x576 with 2 Axes>"
            ]
          },
          "metadata": {
            "tags": [],
            "needs_background": "light"
          }
        }
      ]
    },
    {
      "cell_type": "code",
      "metadata": {
        "colab": {
          "base_uri": "https://localhost:8080/"
        },
        "id": "JCH62i6iMLNJ",
        "outputId": "d4f1b635-70b1-4111-aa04-760fd1e57087"
      },
      "source": [
        "model.save('{}/{}'.format(base_dir, 'mobileNetV2_model_dataAug_tuned_30.h5'))"
      ],
      "execution_count": null,
      "outputs": [
        {
          "output_type": "stream",
          "text": [
            "/usr/local/lib/python3.7/dist-packages/tensorflow/python/keras/utils/generic_utils.py:497: CustomMaskWarning: Custom mask layers require a config and must override get_config. When loading, the custom mask layer must be passed to the custom_objects argument.\n",
            "  category=CustomMaskWarning)\n"
          ],
          "name": "stderr"
        }
      ]
    },
    {
      "cell_type": "code",
      "metadata": {
        "id": "pCx7DFyoMLNK"
      },
      "source": [
        "model = tf.keras.models.load_model('{}/{}'.format(base_dir, 'mobileNetV2_model_dataAug_tuned_30.h5'))"
      ],
      "execution_count": null,
      "outputs": []
    },
    {
      "cell_type": "markdown",
      "metadata": {
        "id": "_9QzkGR-MLNK"
      },
      "source": [
        "### Confusion Matrix"
      ]
    },
    {
      "cell_type": "code",
      "metadata": {
        "id": "srJXhxHdT5wq"
      },
      "source": [
        "# make a prediction\n",
        "def predict_on_test(model, test_gen, df_size):\n",
        "    predictions1 = model.predict_generator(test_gen, steps=df_size, verbose=1)\n",
        "    np.putmask(predictions1, predictions1 >= 0, 1)    \n",
        "    np.putmask(predictions1, predictions1 < 0, 0)\n",
        "    \n",
        "    predictions2 = model.predict_generator(test_gen, steps=df_size, verbose=1)\n",
        "    np.putmask(predictions2, predictions2 >= 0, 1)\n",
        "    np.putmask(predictions2, predictions2 < 0, 0)\n",
        "\n",
        "    predictions3 = model.predict_generator(test_gen, steps=df_size, verbose=1)\n",
        "    np.putmask(predictions3, predictions3 >= 0, 1)\n",
        "    np.putmask(predictions3, predictions3 < 0, 0)\n",
        "    \n",
        "    predictions4 = model.predict_generator(test_gen, steps=df_size, verbose=1)\n",
        "    np.putmask(predictions4, predictions4 >= 0, 1)\n",
        "    np.putmask(predictions4, predictions4 < 0, 0)\n",
        "    \n",
        "    predictions5 = model.predict_generator(test_gen, steps=df_size, verbose=1)\n",
        "    np.putmask(predictions5, predictions5 >= 0, 1)\n",
        "    np.putmask(predictions5, predictions5 < 0, 0)\n",
        "    \n",
        "    predictions = predictions1 + predictions2 + predictions3 + predictions4 + predictions5\n",
        "    np.putmask(predictions, predictions >= 3, 1)\n",
        "    np.putmask(predictions, predictions < 3, 0)\n",
        "    predictions = predictions.flatten()\n",
        "    df_preds = pd.DataFrame(predictions, columns=['has_tumor_tissue'])\n",
        "\n",
        "    y_true = test_gen.classes\n",
        "    y_pred = df_preds['has_tumor_tissue']\n",
        "\n",
        "    print(\"F1 Score: \" + str(sklearn.metrics.f1_score(y_true, y_pred)))\n",
        "    print(\"AUC Score: \" + str(sklearn.metrics.roc_auc_score(y_true, y_pred)))\n",
        "    \n",
        "    test_labels = test_gen.classes\n",
        "    cm = sklearn.metrics.confusion_matrix(test_labels, predictions)\n",
        "    \n",
        "    tn, fp, fn, tp = cm.ravel()\n",
        "    precision = tp/(tp+fp)\n",
        "    recall = tp/(tp+fn)\n",
        "    f1_score=(2*precision*recall)/(recall+precision)\n",
        "    accuracy = (tp + tn)/(tp + fp + tn + fn)\n",
        "    \n",
        "    print(\"Precision: \" + str(precision))\n",
        "    print(\"Recall: \" + str(recall))\n",
        "    print(\"F1 Score: \" + str(f1_score))\n",
        "    print(\"Accuracy: \" + str(accuracy))\n",
        "    \n",
        "    sns.heatmap(cm/np.sum(cm), fmt='.2%' , annot=True, cmap='Blues', square=True, cbar=False, annot_kws={'size':25})"
      ],
      "execution_count": null,
      "outputs": []
    },
    {
      "cell_type": "code",
      "metadata": {
        "id": "G_OD-BM2T_NY",
        "colab": {
          "base_uri": "https://localhost:8080/",
          "height": 435
        },
        "outputId": "ddc6c1e0-9713-4074-9433-044fd2551b54"
      },
      "source": [
        "predict_on_test(model, test_data_iterator, test_data_iterator.n)"
      ],
      "execution_count": null,
      "outputs": [
        {
          "output_type": "stream",
          "text": [
            "/usr/local/lib/python3.7/dist-packages/tensorflow/python/keras/engine/training.py:2001: UserWarning: `Model.predict_generator` is deprecated and will be removed in a future version. Please use `Model.predict`, which supports generators.\n",
            "  warnings.warn('`Model.predict_generator` is deprecated and '\n"
          ],
          "name": "stderr"
        },
        {
          "output_type": "stream",
          "text": [
            "21783/21783 [==============================] - 152s 7ms/step\n",
            "F1 Score: 0.9131746952988973\n",
            "AUC Score: 0.9249900827382977\n",
            "Precision: 0.9357678125371715\n",
            "Recall: 0.8916468321432619\n",
            "F1 Score: 0.9131746952988973\n",
            "Accuracy: 0.9313225910113391\n"
          ],
          "name": "stdout"
        },
        {
          "output_type": "display_data",
          "data": {
            "image/png": "[encoded data removed]",
            "text/plain": [
              "<Figure size 432x288 with 1 Axes>"
            ]
          },
          "metadata": {
            "tags": [],
            "needs_background": "light"
          }
        }
      ]
    },
    {
      "cell_type": "markdown",
      "metadata": {
        "id": "RlwgdNd-wcnp"
      },
      "source": [
        "## One Cycle Policy 30"
      ]
    },
    {
      "cell_type": "markdown",
      "metadata": {
        "id": "6n4TfapowoFH"
      },
      "source": [
        "### One cycle scheduler"
      ]
    },
    {
      "cell_type": "code",
      "metadata": {
        "id": "mu1CZCXswoFH"
      },
      "source": [
        "\"\"\"\n",
        "https://www.avanwyk.com/tensorflow-2-super-convergence-with-the-1cycle-policy/\n",
        "\"\"\"\n",
        "\n",
        "class CosineAnnealer:\n",
        "    def __init__(self, start, end, steps):\n",
        "        self.start = start\n",
        "        self.end = end\n",
        "        self.steps = steps\n",
        "        self.n = 0\n",
        "        \n",
        "    def step(self):\n",
        "        self.n += 1\n",
        "        cos = np.cos(np.pi * (self.n / self.steps)) + 1\n",
        "        return self.end + (self.start - self.end) / 2. * cos\n",
        "\n",
        "\n",
        "class OneCycleScheduler(tf.keras.callbacks.Callback):\n",
        "    def __init__(self, lr_max, steps, mom_min=0.85, mom_max=0.95, phase_1_pct=0.3, div_factor=25.):\n",
        "        super(OneCycleScheduler, self).__init__()\n",
        "        lr_min = lr_max / div_factor\n",
        "        final_lr = lr_max / (div_factor * 1e4)\n",
        "        phase_1_steps = steps * phase_1_pct\n",
        "        phase_2_steps = steps - phase_1_steps\n",
        "        \n",
        "        self.phase_1_steps = phase_1_steps\n",
        "        self.phase_2_steps = phase_2_steps\n",
        "        self.phase = 0\n",
        "        self.step = 0\n",
        "        \n",
        "        self.phases = [[CosineAnnealer(lr_min, lr_max, phase_1_steps), CosineAnnealer(mom_max, mom_min, phase_1_steps)], \n",
        "                 [CosineAnnealer(lr_max, final_lr, phase_2_steps), CosineAnnealer(mom_min, mom_max, phase_2_steps)]]\n",
        "        \n",
        "        self.lrs = []\n",
        "        self.moms = []\n",
        "\n",
        "    def on_train_begin(self, logs=None):\n",
        "        self.phase = 0\n",
        "        self.step = 0\n",
        "\n",
        "        self.set_lr(self.lr_schedule().start)\n",
        "        self.set_momentum(self.mom_schedule().start)\n",
        "        \n",
        "    def on_train_batch_begin(self, batch, logs=None):\n",
        "        self.lrs.append(self.get_lr())\n",
        "        self.moms.append(self.get_momentum())\n",
        "\n",
        "    def on_train_batch_end(self, batch, logs=None):\n",
        "        self.step += 1\n",
        "        if self.step >= self.phase_1_steps:\n",
        "            self.phase = 1\n",
        "            \n",
        "        self.set_lr(self.lr_schedule().step())\n",
        "        self.set_momentum(self.mom_schedule().step())\n",
        "        \n",
        "    def get_lr(self):\n",
        "        try:\n",
        "            return tf.keras.backend.get_value(self.model.optimizer.lr)\n",
        "        except AttributeError:\n",
        "            return None\n",
        "        \n",
        "    def get_momentum(self):\n",
        "        try:\n",
        "            return tf.keras.backend.get_value(self.model.optimizer.momentum)\n",
        "        except AttributeError:\n",
        "            return None\n",
        "        \n",
        "    def set_lr(self, lr):\n",
        "        try:\n",
        "            tf.keras.backend.set_value(self.model.optimizer.lr, lr)\n",
        "        except AttributeError:\n",
        "            pass # ignore\n",
        "        \n",
        "    def set_momentum(self, mom):\n",
        "        try:\n",
        "            tf.keras.backend.set_value(self.model.optimizer.momentum, mom)\n",
        "        except AttributeError:\n",
        "            pass # ignore\n",
        "\n",
        "    def lr_schedule(self):\n",
        "        return self.phases[self.phase][0]\n",
        "    \n",
        "    def mom_schedule(self):\n",
        "        return self.phases[self.phase][1]\n",
        "    \n",
        "    def plot(self):\n",
        "        ax = plt.subplot(1, 2, 1)\n",
        "        ax.plot(self.lrs)\n",
        "        ax.set_title('Learning Rate')\n",
        "        ax = plt.subplot(1, 2, 2)\n",
        "        ax.plot(self.moms)\n",
        "        ax.set_title('Momentum')"
      ],
      "execution_count": null,
      "outputs": []
    },
    {
      "cell_type": "markdown",
      "metadata": {
        "id": "HSOiNN5vwcnq"
      },
      "source": [
        "### Create data generators"
      ]
    },
    {
      "cell_type": "code",
      "metadata": {
        "id": "JbNtRWDNwcnq"
      },
      "source": [
        "new_base_dir = 'dataset_folder'\n",
        "training_sub_path = 'train'\n",
        "test_sub_path = 'test'"
      ],
      "execution_count": null,
      "outputs": []
    },
    {
      "cell_type": "code",
      "metadata": {
        "id": "TDCxXSuTwcnq"
      },
      "source": [
        "IMG_SIZE = (96, 96) \n",
        "IMG_SHAPE = IMG_SIZE + (3,)\n",
        "BATCH_SIZE = 64"
      ],
      "execution_count": null,
      "outputs": []
    },
    {
      "cell_type": "code",
      "metadata": {
        "id": "12AheDUFwcnr"
      },
      "source": [
        "def add_noise_rotate(img_array):\n",
        "    noise = np.random.randint(-5,6, img_array.shape)\n",
        "    noise = noise \n",
        "    img = img_array + noise\n",
        "    np.putmask(img, img < 0, 0)\n",
        "    np.putmask(img, img > 255, 255)\n",
        "    rot_angle = np.random.randint(0,4)\n",
        "    img = np.rot90(img, rot_angle)\n",
        "    return img"
      ],
      "execution_count": null,
      "outputs": []
    },
    {
      "cell_type": "code",
      "metadata": {
        "id": "IvVUsN9awcnr"
      },
      "source": [
        "train_csv = 'train_labels.csv'\n",
        "test_csv = 'sample_submission.csv'\n",
        "\n",
        "traindf=pd.read_csv(train_csv,dtype=str)\n",
        "testdf=pd.read_csv(test_csv,dtype=str)\n",
        "\n",
        "def append_ext(fn):\n",
        "    return fn+\".tif\"\n",
        "\n",
        "traindf[\"id\"]=traindf[\"id\"].apply(append_ext)\n",
        "testdf[\"id\"]=testdf[\"id\"].apply(append_ext)\n",
        "\n",
        "\n",
        "train_df,val_df1=train_test_split(traindf,test_size=0.3,random_state=42,stratify=traindf['label'])\n",
        "val_df,test_df=train_test_split(val_df1,test_size=0.33,random_state=42,stratify=val_df1['label'])"
      ],
      "execution_count": null,
      "outputs": []
    },
    {
      "cell_type": "code",
      "metadata": {
        "id": "Fn9kSIG9wcns"
      },
      "source": [
        "data_generator = ImageDataGenerator(brightness_range=[0.3, 1], \n",
        "                                    horizontal_flip=True, \n",
        "                                    vertical_flip=True,\n",
        "                                    preprocessing_function=add_noise_rotate)\n",
        "data_generator_noaug = ImageDataGenerator()"
      ],
      "execution_count": null,
      "outputs": []
    },
    {
      "cell_type": "code",
      "metadata": {
        "colab": {
          "base_uri": "https://localhost:8080/"
        },
        "id": "YgcuI78Iwcns",
        "outputId": "1592c09c-0413-481a-9431-cdb907f411f4"
      },
      "source": [
        "train_data_iterator=data_generator.flow_from_dataframe(dataframe=train_df,\n",
        "                                                 directory='train',\n",
        "                                                 x_col=\"id\",\n",
        "                                                 y_col=\"label\",\n",
        "                                                 batch_size=BATCH_SIZE,\n",
        "                                                 seed=42,\n",
        "                                                 shuffle=False,\n",
        "                                                 class_mode=\"binary\",\n",
        "                                                 target_size=IMG_SIZE)\n",
        "\n",
        "validation_data_iterator=data_generator.flow_from_dataframe(dataframe=val_df,\n",
        "                                                      directory='train',\n",
        "                                                      x_col=\"id\",\n",
        "                                                      y_col=\"label\",\n",
        "                                                      batch_size=BATCH_SIZE,\n",
        "                                                      seed=42,\n",
        "                                                      shuffle=False,\n",
        "                                                      class_mode=\"binary\",\n",
        "                                                      target_size=IMG_SIZE)\n",
        "\n",
        "test_data_iterator = data_generator_noaug.flow_from_dataframe(dataframe=test_df,\n",
        "                                                         directory='train',\n",
        "                                                         x_col=\"id\",\n",
        "                                                         y_col=\"label\",\n",
        "                                                         batch_size=1,\n",
        "                                                         seed=42,\n",
        "                                                         shuffle=False,\n",
        "                                                         class_mode=\"binary\",\n",
        "                                                         target_size=IMG_SIZE)"
      ],
      "execution_count": null,
      "outputs": [
        {
          "output_type": "stream",
          "text": [
            "Found 154017 validated image filenames belonging to 2 classes.\n",
            "Found 44225 validated image filenames belonging to 2 classes.\n",
            "Found 21783 validated image filenames belonging to 2 classes.\n"
          ],
          "name": "stdout"
        }
      ]
    },
    {
      "cell_type": "code",
      "metadata": {
        "id": "StVeSvX-wcnt"
      },
      "source": [
        "STEP_SIZE_TRAIN = train_data_iterator.n//train_data_iterator.batch_size\n",
        "STEP_SIZE_VALIDATION = validation_data_iterator.n//validation_data_iterator.batch_size\n",
        "STEP_SIZE_test = test_data_iterator.n//test_data_iterator.batch_size"
      ],
      "execution_count": null,
      "outputs": []
    },
    {
      "cell_type": "markdown",
      "metadata": {
        "id": "x06mfKN5wcnt"
      },
      "source": [
        "### Create Model"
      ]
    },
    {
      "cell_type": "code",
      "metadata": {
        "id": "2JRNCPznwcnu"
      },
      "source": [
        "preprocess_input = tf.keras.applications.mobilenet_v2.preprocess_input"
      ],
      "execution_count": null,
      "outputs": []
    },
    {
      "cell_type": "code",
      "metadata": {
        "id": "VU81uKsYwcnu",
        "colab": {
          "base_uri": "https://localhost:8080/"
        },
        "outputId": "16ef097b-477b-4ce1-f00d-cbb7be9e3f3e"
      },
      "source": [
        "base_model = tf.keras.applications.MobileNetV2(input_shape=IMG_SHAPE, include_top=False, weights='imagenet')"
      ],
      "execution_count": null,
      "outputs": [
        {
          "output_type": "stream",
          "text": [
            "Downloading data from https://storage.googleapis.com/tensorflow/keras-applications/mobilenet_v2/mobilenet_v2_weights_tf_dim_ordering_tf_kernels_1.0_96_no_top.h5\n",
            "9412608/9406464 [==============================] - 0s 0us/step\n"
          ],
          "name": "stdout"
        }
      ]
    },
    {
      "cell_type": "code",
      "metadata": {
        "id": "_Ic8PYX-wcnu"
      },
      "source": [
        "base_model.trainable = False"
      ],
      "execution_count": null,
      "outputs": []
    },
    {
      "cell_type": "code",
      "metadata": {
        "colab": {
          "base_uri": "https://localhost:8080/"
        },
        "id": "NR6BF8llwcnu",
        "outputId": "91a85bdf-1ff0-496d-ce62-db3029c36502"
      },
      "source": [
        "image_batch, label_batch = next(iter(train_data_iterator))\n",
        "feature_batch = base_model(image_batch)\n",
        "print(feature_batch.shape)"
      ],
      "execution_count": null,
      "outputs": [
        {
          "output_type": "stream",
          "text": [
            "(64, 3, 3, 1280)\n"
          ],
          "name": "stdout"
        }
      ]
    },
    {
      "cell_type": "code",
      "metadata": {
        "colab": {
          "base_uri": "https://localhost:8080/"
        },
        "id": "eVYIlKDVwcnv",
        "outputId": "64b83fde-a39b-430b-db87-9e3c2f22f516"
      },
      "source": [
        "global_average_layer = tf.keras.layers.GlobalAveragePooling2D()\n",
        "feature_batch_average = global_average_layer(feature_batch)\n",
        "print(feature_batch_average.shape)"
      ],
      "execution_count": null,
      "outputs": [
        {
          "output_type": "stream",
          "text": [
            "(64, 1280)\n"
          ],
          "name": "stdout"
        }
      ]
    },
    {
      "cell_type": "code",
      "metadata": {
        "colab": {
          "base_uri": "https://localhost:8080/"
        },
        "id": "NFPEky1xwcnv",
        "outputId": "dd3b4a78-5321-4451-af44-955ab47a070d"
      },
      "source": [
        "prediction_layer = tf.keras.layers.Dense(1)\n",
        "prediction_batch = prediction_layer(feature_batch_average)\n",
        "print(prediction_batch.shape)"
      ],
      "execution_count": null,
      "outputs": [
        {
          "output_type": "stream",
          "text": [
            "(64, 1)\n"
          ],
          "name": "stdout"
        }
      ]
    },
    {
      "cell_type": "code",
      "metadata": {
        "id": "1dDPvqZhwcnv"
      },
      "source": [
        "inputs = tf.keras.Input(shape=IMG_SHAPE)\n",
        "x = preprocess_input(inputs)\n",
        "x = base_model(x, training=False)\n",
        "x = global_average_layer(x)\n",
        "x = tf.keras.layers.Dropout(0.2)(x)\n",
        "x = tf.keras.layers.Dense(1)(x)\n",
        "#outputs = prediction_layer(x)\n",
        "model = tf.keras.Model(inputs, x)"
      ],
      "execution_count": null,
      "outputs": []
    },
    {
      "cell_type": "code",
      "metadata": {
        "colab": {
          "base_uri": "https://localhost:8080/"
        },
        "id": "tRvbnPJ2wcnv",
        "outputId": "2917ec41-557a-466e-c5be-bdd487588884"
      },
      "source": [
        "model.summary()"
      ],
      "execution_count": null,
      "outputs": [
        {
          "output_type": "stream",
          "text": [
            "Model: \"model\"\n",
            "_________________________________________________________________\n",
            "Layer (type)                 Output Shape              Param #   \n",
            "=================================================================\n",
            "input_2 (InputLayer)         [(None, 96, 96, 3)]       0         \n",
            "_________________________________________________________________\n",
            "tf.math.truediv (TFOpLambda) (None, 96, 96, 3)         0         \n",
            "_________________________________________________________________\n",
            "tf.math.subtract (TFOpLambda (None, 96, 96, 3)         0         \n",
            "_________________________________________________________________\n",
            "mobilenetv2_1.00_96 (Functio (None, 3, 3, 1280)        2257984   \n",
            "_________________________________________________________________\n",
            "global_average_pooling2d (Gl (None, 1280)              0         \n",
            "_________________________________________________________________\n",
            "dropout (Dropout)            (None, 1280)              0         \n",
            "_________________________________________________________________\n",
            "dense_1 (Dense)              (None, 1)                 1281      \n",
            "=================================================================\n",
            "Total params: 2,259,265\n",
            "Trainable params: 1,281\n",
            "Non-trainable params: 2,257,984\n",
            "_________________________________________________________________\n"
          ],
          "name": "stdout"
        }
      ]
    },
    {
      "cell_type": "code",
      "metadata": {
        "id": "xu0wnGKTwcnw"
      },
      "source": [
        "base_learning_rate = 0.0001\n",
        "model.compile(optimizer=tf.keras.optimizers.Adam(learning_rate=base_learning_rate), \n",
        "              loss=tf.keras.losses.BinaryCrossentropy(from_logits=True), \n",
        "              metrics=['accuracy'])"
      ],
      "execution_count": null,
      "outputs": []
    },
    {
      "cell_type": "code",
      "metadata": {
        "colab": {
          "base_uri": "https://localhost:8080/"
        },
        "id": "mLbRVm-Ewcnw",
        "outputId": "385acbcd-7ee6-494b-ccb8-0ba369807361"
      },
      "source": [
        "len(model.trainable_variables)"
      ],
      "execution_count": null,
      "outputs": [
        {
          "output_type": "execute_result",
          "data": {
            "text/plain": [
              "2"
            ]
          },
          "metadata": {
            "tags": []
          },
          "execution_count": 24
        }
      ]
    },
    {
      "cell_type": "markdown",
      "metadata": {
        "id": "cb6EcDxywcnw"
      },
      "source": [
        "### Train Model"
      ]
    },
    {
      "cell_type": "code",
      "metadata": {
        "id": "r1X0tz_ADh0t"
      },
      "source": [
        "initial_epochs = 30\n",
        "\n",
        "steps = STEP_SIZE_TRAIN * initial_epochs\n",
        "lr_schedule = OneCycleScheduler(base_learning_rate, steps)\n",
        "\n",
        "filepath = '{}/{}'.format(base_dir, 'mobileNetV2_model_onecycle_30.h5')\n",
        "checkpoint = ModelCheckpoint(filepath, \n",
        "                             monitor='val_accuracy', \n",
        "                             verbose=1, \n",
        "                             save_best_only=True, \n",
        "                             mode='max')\n",
        "\n",
        "callbacks_list = [checkpoint, lr_schedule]"
      ],
      "execution_count": null,
      "outputs": []
    },
    {
      "cell_type": "code",
      "metadata": {
        "id": "vW71yfxHwcnw"
      },
      "source": [
        "history = model.fit(train_data_iterator, \n",
        "                    epochs=initial_epochs, \n",
        "                    validation_data=validation_data_iterator,\n",
        "                    verbose=True,\n",
        "                    callbacks=callbacks_list)"
      ],
      "execution_count": null,
      "outputs": []
    },
    {
      "cell_type": "code",
      "metadata": {
        "colab": {
          "base_uri": "https://localhost:8080/"
        },
        "id": "0mWpmAmYwcnx",
        "outputId": "710b66f7-583f-48f0-8991-f69d003f9ccd"
      },
      "source": [
        "model.save('{}/{}'.format(base_dir, 'mobileNetV2_model_onecycle_30.h5'))"
      ],
      "execution_count": null,
      "outputs": [
        {
          "output_type": "stream",
          "text": [
            "/usr/local/lib/python3.7/dist-packages/tensorflow/python/keras/utils/generic_utils.py:497: CustomMaskWarning: Custom mask layers require a config and must override get_config. When loading, the custom mask layer must be passed to the custom_objects argument.\n",
            "  category=CustomMaskWarning)\n"
          ],
          "name": "stderr"
        }
      ]
    },
    {
      "cell_type": "markdown",
      "metadata": {
        "id": "HZ5whsP9wcny"
      },
      "source": [
        "### Plot loss and accuracy"
      ]
    },
    {
      "cell_type": "code",
      "metadata": {
        "id": "OEd6vv3Awcny",
        "colab": {
          "base_uri": "https://localhost:8080/",
          "height": 513
        },
        "outputId": "7581fe3e-3f05-484a-cb11-a6b294c4d9f0"
      },
      "source": [
        "acc = history.history['accuracy']\n",
        "val_acc = history.history['val_accuracy']\n",
        "\n",
        "loss = history.history['loss']\n",
        "val_loss = history.history['val_loss']\n",
        "\n",
        "plt.figure(figsize=(8, 8))\n",
        "plt.subplot(2, 1, 1)\n",
        "plt.plot(acc, label='Training Accuracy')\n",
        "plt.plot(val_acc, label='Validation Accuracy')\n",
        "plt.legend(loc='lower right')\n",
        "plt.ylabel('Accuracy')\n",
        "plt.ylim([min(plt.ylim()),1])\n",
        "plt.title('Training and Validation Accuracy')\n",
        "\n",
        "plt.subplot(2, 1, 2)\n",
        "plt.plot(loss, label='Training Loss')\n",
        "plt.plot(val_loss, label='Validation Loss')\n",
        "plt.legend(loc='upper right')\n",
        "plt.ylabel('Cross Entropy')\n",
        "plt.ylim([0,1.0])\n",
        "plt.title('Training and Validation Loss')\n",
        "plt.xlabel('epoch')\n",
        "plt.show()"
      ],
      "execution_count": null,
      "outputs": [
        {
          "output_type": "display_data",
          "data": {
            "image/png": "[encoded data removed]",
            "text/plain": [
              "<Figure size 576x576 with 2 Axes>"
            ]
          },
          "metadata": {
            "tags": [],
            "needs_background": "light"
          }
        }
      ]
    },
    {
      "cell_type": "markdown",
      "metadata": {
        "id": "rMFttcKewcny"
      },
      "source": [
        "### Fine tune model"
      ]
    },
    {
      "cell_type": "code",
      "metadata": {
        "id": "oKThxPsrwcnz"
      },
      "source": [
        "base_model.trainable = True"
      ],
      "execution_count": null,
      "outputs": []
    },
    {
      "cell_type": "code",
      "metadata": {
        "id": "m59HhZ8Mwcnz"
      },
      "source": [
        "fine_tune_at = 100\n",
        "\n",
        "for layer in base_model.layers[:fine_tune_at]:\n",
        "  layer.trainable = False"
      ],
      "execution_count": null,
      "outputs": []
    },
    {
      "cell_type": "code",
      "metadata": {
        "id": "0xLxmdkowcnz"
      },
      "source": [
        "model.compile(loss=tf.keras.losses.BinaryCrossentropy(from_logits=True), \n",
        "              optimizer=tf.keras.optimizers.Adam(learning_rate=base_learning_rate/10),\n",
        "              metrics=['accuracy'])"
      ],
      "execution_count": null,
      "outputs": []
    },
    {
      "cell_type": "code",
      "metadata": {
        "colab": {
          "base_uri": "https://localhost:8080/"
        },
        "id": "Eh9mjCXywcnz",
        "outputId": "66f86528-49cc-4f52-d89d-7bed25472a53"
      },
      "source": [
        "model.summary()"
      ],
      "execution_count": null,
      "outputs": [
        {
          "output_type": "stream",
          "text": [
            "Model: \"model\"\n",
            "_________________________________________________________________\n",
            "Layer (type)                 Output Shape              Param #   \n",
            "=================================================================\n",
            "input_3 (InputLayer)         [(None, 96, 96, 3)]       0         \n",
            "_________________________________________________________________\n",
            "tf.math.truediv (TFOpLambda) (None, 96, 96, 3)         0         \n",
            "_________________________________________________________________\n",
            "tf.math.subtract (TFOpLambda (None, 96, 96, 3)         0         \n",
            "_________________________________________________________________\n",
            "mobilenetv2_1.00_96 (Functio (None, 3, 3, 1280)        2257984   \n",
            "_________________________________________________________________\n",
            "global_average_pooling2d_1 ( (None, 1280)              0         \n",
            "_________________________________________________________________\n",
            "dropout (Dropout)            (None, 1280)              0         \n",
            "_________________________________________________________________\n",
            "dense_2 (Dense)              (None, 1)                 1281      \n",
            "=================================================================\n",
            "Total params: 2,259,265\n",
            "Trainable params: 1,862,721\n",
            "Non-trainable params: 396,544\n",
            "_________________________________________________________________\n"
          ],
          "name": "stdout"
        }
      ]
    },
    {
      "cell_type": "code",
      "metadata": {
        "colab": {
          "base_uri": "https://localhost:8080/"
        },
        "id": "01psOEdtwcnz",
        "outputId": "e2e7678a-8823-4e3d-d38d-ec8b1d7552a1"
      },
      "source": [
        "len(model.trainable_variables)"
      ],
      "execution_count": null,
      "outputs": [
        {
          "output_type": "execute_result",
          "data": {
            "text/plain": [
              "56"
            ]
          },
          "metadata": {
            "tags": []
          },
          "execution_count": 34
        }
      ]
    },
    {
      "cell_type": "markdown",
      "metadata": {
        "id": "JVFV_Eyvwcn0"
      },
      "source": [
        "### Train fine tuned model"
      ]
    },
    {
      "cell_type": "code",
      "metadata": {
        "id": "AoSksxhZDrhb"
      },
      "source": [
        "fine_tune_epochs = 30\n",
        "total_epochs = initial_epochs + fine_tune_epochs\n",
        "\n",
        "\n",
        "filepath = '{}/{}'.format(base_dir, 'mobileNetV2_model_onecycle_tuned_30.h5')\n",
        "checkpoint = ModelCheckpoint(filepath, \n",
        "                             monitor='val_accuracy', \n",
        "                             verbose=1, \n",
        "                             save_best_only=True)\n",
        "\n",
        "callbacks_list = [checkpoint, lr_schedule]"
      ],
      "execution_count": null,
      "outputs": []
    },
    {
      "cell_type": "code",
      "metadata": {
        "id": "Z2aDMHCxwcn0"
      },
      "source": [
        "history_fine = model.fit(train_data_iterator, \n",
        "                         epochs=total_epochs, \n",
        "                         initial_epoch=43,#history.epoch[-1], \n",
        "                         validation_data=validation_data_iterator, \n",
        "                         verbose=True, \n",
        "                         callbacks=callbacks_list)"
      ],
      "execution_count": null,
      "outputs": []
    },
    {
      "cell_type": "markdown",
      "metadata": {
        "id": "mCviuP8Swcn0"
      },
      "source": [
        "### Plot improved loss and accuracy"
      ]
    },
    {
      "cell_type": "code",
      "metadata": {
        "id": "51JbqvM4wcn0"
      },
      "source": [
        "acc += history_fine.history['accuracy']\n",
        "val_acc += history_fine.history['val_accuracy']\n",
        "\n",
        "loss += history_fine.history['loss']\n",
        "val_loss += history_fine.history['val_loss']"
      ],
      "execution_count": null,
      "outputs": []
    },
    {
      "cell_type": "code",
      "metadata": {
        "id": "KOMM0WCCwcn0"
      },
      "source": [
        "plt.figure(figsize=(8, 8))\n",
        "plt.subplot(2, 1, 1)\n",
        "plt.plot(acc, label='Training Accuracy')\n",
        "plt.plot(val_acc, label='Validation Accuracy')\n",
        "plt.ylim([0.8, 1])\n",
        "plt.plot([initial_epochs-1,initial_epochs-1],\n",
        "          plt.ylim(), label='Start Fine Tuning')\n",
        "plt.legend(loc='lower right')\n",
        "plt.title('Training and Validation Accuracy')\n",
        "\n",
        "plt.subplot(2, 1, 2)\n",
        "plt.plot(loss, label='Training Loss')\n",
        "plt.plot(val_loss, label='Validation Loss')\n",
        "plt.ylim([0, 1.0])\n",
        "plt.plot([initial_epochs-1,initial_epochs-1],\n",
        "         plt.ylim(), label='Start Fine Tuning')\n",
        "plt.legend(loc='upper right')\n",
        "plt.title('Training and Validation Loss')\n",
        "plt.xlabel('epoch')\n",
        "plt.show()"
      ],
      "execution_count": null,
      "outputs": []
    },
    {
      "cell_type": "code",
      "metadata": {
        "id": "h0hEi5Pvwcn1",
        "colab": {
          "base_uri": "https://localhost:8080/"
        },
        "outputId": "6bc5f6d0-49da-4f85-ea56-0573432839bc"
      },
      "source": [
        "model.save('{}/{}'.format(base_dir, 'mobileNetV2_model_onecycle_tuned_30.h5'))"
      ],
      "execution_count": null,
      "outputs": [
        {
          "output_type": "stream",
          "text": [
            "/usr/local/lib/python3.7/dist-packages/tensorflow/python/keras/utils/generic_utils.py:497: CustomMaskWarning: Custom mask layers require a config and must override get_config. When loading, the custom mask layer must be passed to the custom_objects argument.\n",
            "  category=CustomMaskWarning)\n"
          ],
          "name": "stderr"
        }
      ]
    },
    {
      "cell_type": "code",
      "metadata": {
        "id": "qQQaG6GIwcn1"
      },
      "source": [
        "model = tf.keras.models.load_model('{}/{}'.format(base_dir, 'mobileNetV2_model_onecycle_tuned_30.h5'))"
      ],
      "execution_count": null,
      "outputs": []
    },
    {
      "cell_type": "markdown",
      "metadata": {
        "id": "5YscL8Uowcn1"
      },
      "source": [
        "### Confusion Matrix"
      ]
    },
    {
      "cell_type": "code",
      "metadata": {
        "id": "S9FnVhpUwcn1"
      },
      "source": [
        "# make a prediction\n",
        "def predict_on_test(model, test_gen, df_size):\n",
        "    predictions1 = model.predict_generator(test_gen, steps=df_size, verbose=1)\n",
        "    np.putmask(predictions1, predictions1 >= 0, 1)    \n",
        "    np.putmask(predictions1, predictions1 < 0, 0)\n",
        "    \n",
        "    predictions2 = model.predict_generator(test_gen, steps=df_size, verbose=1)\n",
        "    np.putmask(predictions2, predictions2 >= 0, 1)\n",
        "    np.putmask(predictions2, predictions2 < 0, 0)\n",
        "\n",
        "    predictions3 = model.predict_generator(test_gen, steps=df_size, verbose=1)\n",
        "    np.putmask(predictions3, predictions3 >= 0, 1)\n",
        "    np.putmask(predictions3, predictions3 < 0, 0)\n",
        "    \n",
        "    predictions4 = model.predict_generator(test_gen, steps=df_size, verbose=1)\n",
        "    np.putmask(predictions4, predictions4 >= 0, 1)\n",
        "    np.putmask(predictions4, predictions4 < 0, 0)\n",
        "    \n",
        "    predictions5 = model.predict_generator(test_gen, steps=df_size, verbose=1)\n",
        "    np.putmask(predictions5, predictions5 >= 0, 1)\n",
        "    np.putmask(predictions5, predictions5 < 0, 0)\n",
        "    \n",
        "    predictions = predictions1 + predictions2 + predictions3 + predictions4 + predictions5\n",
        "    np.putmask(predictions, predictions >= 3, 1)\n",
        "    np.putmask(predictions, predictions < 3, 0)\n",
        "    predictions = predictions.flatten()\n",
        "    df_preds = pd.DataFrame(predictions, columns=['has_tumor_tissue'])\n",
        "\n",
        "    y_true = test_gen.classes\n",
        "    y_pred = df_preds['has_tumor_tissue']\n",
        "\n",
        "    print(\"F1 Score: \" + str(sklearn.metrics.f1_score(y_true, y_pred)))\n",
        "    print(\"AUC Score: \" + str(sklearn.metrics.roc_auc_score(y_true, y_pred)))\n",
        "    \n",
        "    test_labels = test_gen.classes\n",
        "    cm = sklearn.metrics.confusion_matrix(test_labels, predictions)\n",
        "    \n",
        "    tn, fp, fn, tp = cm.ravel()\n",
        "    precision = tp/(tp+fp)\n",
        "    recall = tp/(tp+fn)\n",
        "    f1_score=(2*precision*recall)/(recall+precision)\n",
        "    accuracy = (tp + tn)/(tp + fp + tn + fn)\n",
        "    \n",
        "    print(\"Precision: \" + str(precision))\n",
        "    print(\"Recall: \" + str(recall))\n",
        "    print(\"F1 Score: \" + str(f1_score))\n",
        "    print(\"Accuracy: \" + str(accuracy))\n",
        "    \n",
        "    sns.heatmap(cm/np.sum(cm), fmt='.2%' , annot=True, cmap='Blues', square=True, cbar=False, annot_kws={'size':25})"
      ],
      "execution_count": null,
      "outputs": []
    },
    {
      "cell_type": "code",
      "metadata": {
        "id": "nJJAFHV8wcn2",
        "colab": {
          "base_uri": "https://localhost:8080/",
          "height": 435
        },
        "outputId": "ba06e1f4-3e84-48e2-90bd-69945c9fc6e8"
      },
      "source": [
        "predict_on_test(model, test_data_iterator, test_data_iterator.n)"
      ],
      "execution_count": null,
      "outputs": [
        {
          "output_type": "stream",
          "text": [
            "/usr/local/lib/python3.7/dist-packages/tensorflow/python/keras/engine/training.py:2001: UserWarning: `Model.predict_generator` is deprecated and will be removed in a future version. Please use `Model.predict`, which supports generators.\n",
            "  warnings.warn('`Model.predict_generator` is deprecated and '\n"
          ],
          "name": "stderr"
        },
        {
          "output_type": "stream",
          "text": [
            "21783/21783 [==============================] - 150s 7ms/step\n",
            "F1 Score: 0.931366334351409\n",
            "AUC Score: 0.9406282795177587\n",
            "Precision: 0.9473622508792497\n",
            "Recall: 0.9159016207639125\n",
            "F1 Score: 0.931366334351409\n",
            "Accuracy: 0.9453243354909792\n"
          ],
          "name": "stdout"
        },
        {
          "output_type": "display_data",
          "data": {
            "image/png": "[encoded data removed]",
            "text/plain": [
              "<Figure size 432x288 with 1 Axes>"
            ]
          },
          "metadata": {
            "tags": [],
            "needs_background": "light"
          }
        }
      ]
    },
    {
      "cell_type": "markdown",
      "metadata": {
        "id": "FxMcN3VRxXJq"
      },
      "source": [
        "## LR Reduction on Plateau 30"
      ]
    },
    {
      "cell_type": "markdown",
      "metadata": {
        "id": "cWh2kXaMxXJr"
      },
      "source": [
        "### Create data generators"
      ]
    },
    {
      "cell_type": "code",
      "metadata": {
        "id": "rij28A9PxXJr"
      },
      "source": [
        "new_base_dir = 'dataset_folder'\n",
        "training_sub_path = 'train'\n",
        "test_sub_path = 'test'"
      ],
      "execution_count": null,
      "outputs": []
    },
    {
      "cell_type": "code",
      "metadata": {
        "id": "0rAwMOdkxXJr"
      },
      "source": [
        "IMG_SIZE = (96, 96) \n",
        "IMG_SHAPE = IMG_SIZE + (3,)\n",
        "BATCH_SIZE = 64"
      ],
      "execution_count": null,
      "outputs": []
    },
    {
      "cell_type": "code",
      "metadata": {
        "id": "Vt1AR2RzxXJr"
      },
      "source": [
        "def add_noise_rotate(img_array):\n",
        "    noise = np.random.randint(-5,6, img_array.shape)\n",
        "    noise = noise \n",
        "    img = img_array + noise\n",
        "    np.putmask(img, img < 0, 0)\n",
        "    np.putmask(img, img > 255, 255)\n",
        "    rot_angle = np.random.randint(0,4)\n",
        "    img = np.rot90(img, rot_angle)\n",
        "    return img"
      ],
      "execution_count": null,
      "outputs": []
    },
    {
      "cell_type": "code",
      "metadata": {
        "id": "KojPIgU5xXJr"
      },
      "source": [
        "train_csv = 'train_labels.csv'\n",
        "test_csv = 'sample_submission.csv'\n",
        "\n",
        "traindf=pd.read_csv(train_csv,dtype=str)\n",
        "testdf=pd.read_csv(test_csv,dtype=str)\n",
        "\n",
        "def append_ext(fn):\n",
        "    return fn+\".tif\"\n",
        "\n",
        "traindf[\"id\"]=traindf[\"id\"].apply(append_ext)\n",
        "testdf[\"id\"]=testdf[\"id\"].apply(append_ext)\n",
        "\n",
        "\n",
        "train_df,val_df1=train_test_split(traindf,test_size=0.3,random_state=42,stratify=traindf['label'])\n",
        "val_df,test_df=train_test_split(val_df1,test_size=0.33,random_state=42,stratify=val_df1['label'])"
      ],
      "execution_count": null,
      "outputs": []
    },
    {
      "cell_type": "code",
      "metadata": {
        "id": "8oof9gqCxXJs"
      },
      "source": [
        "data_generator = ImageDataGenerator(brightness_range=[0.3, 1], \n",
        "                                    horizontal_flip=True, \n",
        "                                    vertical_flip=True,\n",
        "                                    preprocessing_function=add_noise_rotate)\n",
        "data_generator_noaug = ImageDataGenerator()"
      ],
      "execution_count": null,
      "outputs": []
    },
    {
      "cell_type": "code",
      "metadata": {
        "colab": {
          "base_uri": "https://localhost:8080/"
        },
        "id": "588SyJzKxXJs",
        "outputId": "6772df4a-5447-4fbd-c6f2-deee62c0b8f4"
      },
      "source": [
        "train_data_iterator=data_generator.flow_from_dataframe(dataframe=train_df,\n",
        "                                                 directory='train',\n",
        "                                                 x_col=\"id\",\n",
        "                                                 y_col=\"label\",\n",
        "                                                 batch_size=BATCH_SIZE,\n",
        "                                                 seed=42,\n",
        "                                                 shuffle=False,\n",
        "                                                 class_mode=\"binary\",\n",
        "                                                 target_size=IMG_SIZE)\n",
        "\n",
        "validation_data_iterator=data_generator.flow_from_dataframe(dataframe=val_df,\n",
        "                                                      directory='train',\n",
        "                                                      x_col=\"id\",\n",
        "                                                      y_col=\"label\",\n",
        "                                                      batch_size=BATCH_SIZE,\n",
        "                                                      seed=42,\n",
        "                                                      shuffle=False,\n",
        "                                                      class_mode=\"binary\",\n",
        "                                                      target_size=IMG_SIZE)\n",
        "\n",
        "test_data_iterator = data_generator_noaug.flow_from_dataframe(dataframe=test_df,\n",
        "                                                         directory='train',\n",
        "                                                         x_col=\"id\",\n",
        "                                                         y_col=\"label\",\n",
        "                                                         batch_size=1,\n",
        "                                                         seed=42,\n",
        "                                                         shuffle=False,\n",
        "                                                         class_mode=\"binary\",\n",
        "                                                         target_size=IMG_SIZE)"
      ],
      "execution_count": null,
      "outputs": [
        {
          "output_type": "stream",
          "text": [
            "Found 154017 validated image filenames belonging to 2 classes.\n",
            "Found 44225 validated image filenames belonging to 2 classes.\n",
            "Found 21783 validated image filenames belonging to 2 classes.\n"
          ],
          "name": "stdout"
        }
      ]
    },
    {
      "cell_type": "code",
      "metadata": {
        "id": "RK0UI8WdxXJt"
      },
      "source": [
        "STEP_SIZE_TRAIN = train_data_iterator.n//train_data_iterator.batch_size\n",
        "STEP_SIZE_VALIDATION = validation_data_iterator.n//validation_data_iterator.batch_size\n",
        "STEP_SIZE_test = test_data_iterator.n//test_data_iterator.batch_size"
      ],
      "execution_count": null,
      "outputs": []
    },
    {
      "cell_type": "markdown",
      "metadata": {
        "id": "r6ylxyTpxXJt"
      },
      "source": [
        "### Create Model"
      ]
    },
    {
      "cell_type": "code",
      "metadata": {
        "id": "4zXpsM45xXJt"
      },
      "source": [
        "preprocess_input = tf.keras.applications.mobilenet_v2.preprocess_input"
      ],
      "execution_count": null,
      "outputs": []
    },
    {
      "cell_type": "code",
      "metadata": {
        "id": "DX3ieDyExXJu",
        "colab": {
          "base_uri": "https://localhost:8080/"
        },
        "outputId": "3ca216c9-aea7-4be1-b9ff-bdc9c328f660"
      },
      "source": [
        "base_model = tf.keras.applications.MobileNetV2(input_shape=IMG_SHAPE, include_top=False, weights='imagenet')"
      ],
      "execution_count": null,
      "outputs": [
        {
          "output_type": "stream",
          "text": [
            "Downloading data from https://storage.googleapis.com/tensorflow/keras-applications/mobilenet_v2/mobilenet_v2_weights_tf_dim_ordering_tf_kernels_1.0_96_no_top.h5\n",
            "9412608/9406464 [==============================] - 0s 0us/step\n"
          ],
          "name": "stdout"
        }
      ]
    },
    {
      "cell_type": "code",
      "metadata": {
        "id": "jd2yfs9NxXJu"
      },
      "source": [
        "base_model.trainable = False"
      ],
      "execution_count": null,
      "outputs": []
    },
    {
      "cell_type": "code",
      "metadata": {
        "colab": {
          "base_uri": "https://localhost:8080/"
        },
        "id": "0G_UaICCxXJu",
        "outputId": "dfa482bf-500b-4663-82a7-0649098d81a6"
      },
      "source": [
        "image_batch, label_batch = next(iter(train_data_iterator))\n",
        "feature_batch = base_model(image_batch)\n",
        "print(feature_batch.shape)"
      ],
      "execution_count": null,
      "outputs": [
        {
          "output_type": "stream",
          "text": [
            "(64, 3, 3, 1280)\n"
          ],
          "name": "stdout"
        }
      ]
    },
    {
      "cell_type": "code",
      "metadata": {
        "colab": {
          "base_uri": "https://localhost:8080/"
        },
        "id": "QF2LpS7BxXJv",
        "outputId": "5311ed41-dfdf-444c-ca44-01aff6feadc0"
      },
      "source": [
        "global_average_layer = tf.keras.layers.GlobalAveragePooling2D()\n",
        "feature_batch_average = global_average_layer(feature_batch)\n",
        "print(feature_batch_average.shape)"
      ],
      "execution_count": null,
      "outputs": [
        {
          "output_type": "stream",
          "text": [
            "(64, 1280)\n"
          ],
          "name": "stdout"
        }
      ]
    },
    {
      "cell_type": "code",
      "metadata": {
        "colab": {
          "base_uri": "https://localhost:8080/"
        },
        "id": "2_o8y7AIxXJv",
        "outputId": "13a9d280-a702-43dc-ad30-fe438f2c511e"
      },
      "source": [
        "prediction_layer = tf.keras.layers.Dense(1)\n",
        "prediction_batch = prediction_layer(feature_batch_average)\n",
        "print(prediction_batch.shape)"
      ],
      "execution_count": null,
      "outputs": [
        {
          "output_type": "stream",
          "text": [
            "(64, 1)\n"
          ],
          "name": "stdout"
        }
      ]
    },
    {
      "cell_type": "code",
      "metadata": {
        "id": "ulMmtjmHxXJv"
      },
      "source": [
        "inputs = tf.keras.Input(shape=IMG_SHAPE)\n",
        "x = preprocess_input(inputs)\n",
        "x = base_model(x, training=False)\n",
        "x = global_average_layer(x)\n",
        "x = tf.keras.layers.Dropout(0.2)(x)\n",
        "x = tf.keras.layers.Dense(1)(x)\n",
        "#outputs = prediction_layer(x)\n",
        "model = tf.keras.Model(inputs, x)"
      ],
      "execution_count": null,
      "outputs": []
    },
    {
      "cell_type": "code",
      "metadata": {
        "colab": {
          "base_uri": "https://localhost:8080/"
        },
        "id": "_W2bDfwqxXJv",
        "outputId": "ed268d80-0a70-4364-dc8b-608be3a68a11"
      },
      "source": [
        "model.summary()"
      ],
      "execution_count": null,
      "outputs": [
        {
          "output_type": "stream",
          "text": [
            "Model: \"model_1\"\n",
            "_________________________________________________________________\n",
            "Layer (type)                 Output Shape              Param #   \n",
            "=================================================================\n",
            "input_4 (InputLayer)         [(None, 96, 96, 3)]       0         \n",
            "_________________________________________________________________\n",
            "tf.math.truediv_1 (TFOpLambd (None, 96, 96, 3)         0         \n",
            "_________________________________________________________________\n",
            "tf.math.subtract_1 (TFOpLamb (None, 96, 96, 3)         0         \n",
            "_________________________________________________________________\n",
            "mobilenetv2_1.00_96 (Functio (None, 3, 3, 1280)        2257984   \n",
            "_________________________________________________________________\n",
            "global_average_pooling2d_1 ( (None, 1280)              0         \n",
            "_________________________________________________________________\n",
            "dropout_1 (Dropout)          (None, 1280)              0         \n",
            "_________________________________________________________________\n",
            "dense_3 (Dense)              (None, 1)                 1281      \n",
            "=================================================================\n",
            "Total params: 2,259,265\n",
            "Trainable params: 1,281\n",
            "Non-trainable params: 2,257,984\n",
            "_________________________________________________________________\n"
          ],
          "name": "stdout"
        }
      ]
    },
    {
      "cell_type": "code",
      "metadata": {
        "id": "GUQ9BBuwxXJv"
      },
      "source": [
        "base_learning_rate = 0.0001\n",
        "model.compile(optimizer=tf.keras.optimizers.Adam(learning_rate=base_learning_rate), \n",
        "              loss=tf.keras.losses.BinaryCrossentropy(from_logits=True), \n",
        "              metrics=['accuracy'])"
      ],
      "execution_count": null,
      "outputs": []
    },
    {
      "cell_type": "code",
      "metadata": {
        "colab": {
          "base_uri": "https://localhost:8080/"
        },
        "id": "we4jJIsnxXJw",
        "outputId": "b2fabda2-66c7-4919-e658-860dd24ed41b"
      },
      "source": [
        "len(model.trainable_variables)"
      ],
      "execution_count": null,
      "outputs": [
        {
          "output_type": "execute_result",
          "data": {
            "text/plain": [
              "2"
            ]
          },
          "metadata": {
            "tags": []
          },
          "execution_count": 54
        }
      ]
    },
    {
      "cell_type": "markdown",
      "metadata": {
        "id": "7lD9L-DAxXJw"
      },
      "source": [
        "### Train Model"
      ]
    },
    {
      "cell_type": "code",
      "metadata": {
        "id": "sxroUl0cuG54"
      },
      "source": [
        "initial_epochs = 30\n",
        "filepath = '{}/{}'.format(base_dir, 'mobileNetV2_model_lrreduce_30.h5')\n",
        "checkpoint = ModelCheckpoint(filepath, \n",
        "                             monitor='val_accuracy', \n",
        "                             verbose=1, \n",
        "                             save_best_only=True, \n",
        "                             mode='max')\n",
        "\n",
        "\n",
        "reduce_lr = ReduceLROnPlateau(monitor='val_accuracy', factor=0.5, patience=2, \n",
        "                                   verbose=1, mode='max', min_lr=0.00001)\n",
        "                              \n",
        "\n",
        "callbacks_list = [checkpoint, reduce_lr]"
      ],
      "execution_count": null,
      "outputs": []
    },
    {
      "cell_type": "code",
      "metadata": {
        "id": "mWEruPVMxXJw"
      },
      "source": [
        "\n",
        "history = model.fit(train_data_iterator, \n",
        "                    epochs=initial_epochs, \n",
        "                    validation_data=validation_data_iterator,\n",
        "                    verbose=True,\n",
        "                    callbacks=callbacks_list)"
      ],
      "execution_count": null,
      "outputs": []
    },
    {
      "cell_type": "code",
      "metadata": {
        "colab": {
          "base_uri": "https://localhost:8080/"
        },
        "id": "ATFDBvy9xXJw",
        "outputId": "610c30aa-b542-4255-bc04-85527b786a2b"
      },
      "source": [
        "model.save('{}/{}'.format(base_dir, 'mobileNetV2_model_lrreduce_30.h5'))"
      ],
      "execution_count": null,
      "outputs": [
        {
          "output_type": "stream",
          "text": [
            "/usr/local/lib/python3.7/dist-packages/tensorflow/python/keras/utils/generic_utils.py:497: CustomMaskWarning: Custom mask layers require a config and must override get_config. When loading, the custom mask layer must be passed to the custom_objects argument.\n",
            "  category=CustomMaskWarning)\n"
          ],
          "name": "stderr"
        }
      ]
    },
    {
      "cell_type": "markdown",
      "metadata": {
        "id": "vyVCOjdTxXJx"
      },
      "source": [
        "### Plot loss and accuracy"
      ]
    },
    {
      "cell_type": "code",
      "metadata": {
        "id": "rOdCkxMhxXJx",
        "colab": {
          "base_uri": "https://localhost:8080/",
          "height": 513
        },
        "outputId": "91581666-0344-42ec-b171-77525a17300d"
      },
      "source": [
        "acc = history.history['accuracy']\n",
        "val_acc = history.history['val_accuracy']\n",
        "\n",
        "loss = history.history['loss']\n",
        "val_loss = history.history['val_loss']\n",
        "\n",
        "plt.figure(figsize=(8, 8))\n",
        "plt.subplot(2, 1, 1)\n",
        "plt.plot(acc, label='Training Accuracy')\n",
        "plt.plot(val_acc, label='Validation Accuracy')\n",
        "plt.legend(loc='lower right')\n",
        "plt.ylabel('Accuracy')\n",
        "plt.ylim([min(plt.ylim()),1])\n",
        "plt.title('Training and Validation Accuracy')\n",
        "\n",
        "plt.subplot(2, 1, 2)\n",
        "plt.plot(loss, label='Training Loss')\n",
        "plt.plot(val_loss, label='Validation Loss')\n",
        "plt.legend(loc='upper right')\n",
        "plt.ylabel('Cross Entropy')\n",
        "plt.ylim([0,1.0])\n",
        "plt.title('Training and Validation Loss')\n",
        "plt.xlabel('epoch')\n",
        "plt.show()"
      ],
      "execution_count": null,
      "outputs": [
        {
          "output_type": "display_data",
          "data": {
            "image/png": "[encoded data removed]",
            "text/plain": [
              "<Figure size 576x576 with 2 Axes>"
            ]
          },
          "metadata": {
            "tags": [],
            "needs_background": "light"
          }
        }
      ]
    },
    {
      "cell_type": "markdown",
      "metadata": {
        "id": "6uYWs694xXJx"
      },
      "source": [
        "### Fine tune model"
      ]
    },
    {
      "cell_type": "code",
      "metadata": {
        "id": "VF6WDBJKxXJx"
      },
      "source": [
        "base_model.trainable = True"
      ],
      "execution_count": null,
      "outputs": []
    },
    {
      "cell_type": "code",
      "metadata": {
        "id": "vMaln009xXJx"
      },
      "source": [
        "fine_tune_at = 100\n",
        "\n",
        "for layer in base_model.layers[:fine_tune_at]:\n",
        "  layer.trainable = False"
      ],
      "execution_count": null,
      "outputs": []
    },
    {
      "cell_type": "code",
      "metadata": {
        "id": "BxXsSIxwxXJx"
      },
      "source": [
        "model.compile(loss=tf.keras.losses.BinaryCrossentropy(from_logits=True), \n",
        "              optimizer=tf.keras.optimizers.Adam(learning_rate=base_learning_rate/10),\n",
        "              metrics=['accuracy'])"
      ],
      "execution_count": null,
      "outputs": []
    },
    {
      "cell_type": "code",
      "metadata": {
        "colab": {
          "base_uri": "https://localhost:8080/"
        },
        "id": "S6uTJiUGxXJy",
        "outputId": "94edec3b-35c4-466d-f864-2074d0b4f622"
      },
      "source": [
        "model.summary()"
      ],
      "execution_count": null,
      "outputs": [
        {
          "output_type": "stream",
          "text": [
            "Model: \"model_1\"\n",
            "_________________________________________________________________\n",
            "Layer (type)                 Output Shape              Param #   \n",
            "=================================================================\n",
            "input_4 (InputLayer)         [(None, 96, 96, 3)]       0         \n",
            "_________________________________________________________________\n",
            "tf.math.truediv_1 (TFOpLambd (None, 96, 96, 3)         0         \n",
            "_________________________________________________________________\n",
            "tf.math.subtract_1 (TFOpLamb (None, 96, 96, 3)         0         \n",
            "_________________________________________________________________\n",
            "mobilenetv2_1.00_96 (Functio (None, 3, 3, 1280)        2257984   \n",
            "_________________________________________________________________\n",
            "global_average_pooling2d_1 ( (None, 1280)              0         \n",
            "_________________________________________________________________\n",
            "dropout_1 (Dropout)          (None, 1280)              0         \n",
            "_________________________________________________________________\n",
            "dense_3 (Dense)              (None, 1)                 1281      \n",
            "=================================================================\n",
            "Total params: 2,259,265\n",
            "Trainable params: 1,862,721\n",
            "Non-trainable params: 396,544\n",
            "_________________________________________________________________\n"
          ],
          "name": "stdout"
        }
      ]
    },
    {
      "cell_type": "code",
      "metadata": {
        "colab": {
          "base_uri": "https://localhost:8080/"
        },
        "id": "vHXbF8uoxXJy",
        "outputId": "4bf7f9c0-2800-430e-9e1e-cf26ae0ad48a"
      },
      "source": [
        "len(model.trainable_variables)"
      ],
      "execution_count": null,
      "outputs": [
        {
          "output_type": "execute_result",
          "data": {
            "text/plain": [
              "56"
            ]
          },
          "metadata": {
            "tags": []
          },
          "execution_count": 63
        }
      ]
    },
    {
      "cell_type": "markdown",
      "metadata": {
        "id": "Ax_63QUqxXJy"
      },
      "source": [
        "### Train fine tuned model"
      ]
    },
    {
      "cell_type": "code",
      "metadata": {
        "id": "ampuLhAFvbOl"
      },
      "source": [
        "fine_tune_epochs = 30\n",
        "total_epochs = initial_epochs + fine_tune_epochs\n",
        "\n",
        "filepath = '{}/{}'.format(base_dir, 'mobileNetV2_model_lrreduce_tuned_30.h5')\n",
        "checkpoint = ModelCheckpoint(filepath, \n",
        "                             monitor='val_accuracy', \n",
        "                             verbose=1, \n",
        "                             save_best_only=True, \n",
        "                             mode='max')\n",
        "\n",
        "callbacks_list = [checkpoint, reduce_lr]"
      ],
      "execution_count": null,
      "outputs": []
    },
    {
      "cell_type": "code",
      "metadata": {
        "id": "yRUFwvUCxXJy"
      },
      "source": [
        "history_fine = model.fit(train_data_iterator, \n",
        "                         epochs=total_epochs, \n",
        "                         initial_epoch=54,#history.epoch[-1], \n",
        "                         validation_data=validation_data_iterator, \n",
        "                         verbose=True, \n",
        "                         callbacks=callbacks_list)"
      ],
      "execution_count": null,
      "outputs": []
    },
    {
      "cell_type": "markdown",
      "metadata": {
        "id": "3IVrvtovxXJy"
      },
      "source": [
        "### Plot improved loss and accuracy"
      ]
    },
    {
      "cell_type": "code",
      "metadata": {
        "id": "lIFtlh5UxXJz"
      },
      "source": [
        "acc += history_fine.history['accuracy']\n",
        "val_acc += history_fine.history['val_accuracy']\n",
        "\n",
        "loss += history_fine.history['loss']\n",
        "val_loss += history_fine.history['val_loss']"
      ],
      "execution_count": null,
      "outputs": []
    },
    {
      "cell_type": "code",
      "metadata": {
        "id": "UTgmIIcXxXJz",
        "colab": {
          "base_uri": "https://localhost:8080/",
          "height": 513
        },
        "outputId": "01031703-b9c0-4b0c-99e8-c8fa461670f3"
      },
      "source": [
        "plt.figure(figsize=(8, 8))\n",
        "plt.subplot(2, 1, 1)\n",
        "plt.plot(acc, label='Training Accuracy')\n",
        "plt.plot(val_acc, label='Validation Accuracy')\n",
        "plt.ylim([0.8, 1])\n",
        "plt.plot([initial_epochs-1,initial_epochs-1],\n",
        "          plt.ylim(), label='Start Fine Tuning')\n",
        "plt.legend(loc='lower right')\n",
        "plt.title('Training and Validation Accuracy')\n",
        "\n",
        "plt.subplot(2, 1, 2)\n",
        "plt.plot(loss, label='Training Loss')\n",
        "plt.plot(val_loss, label='Validation Loss')\n",
        "plt.ylim([0, 1.0])\n",
        "plt.plot([initial_epochs-1,initial_epochs-1],\n",
        "         plt.ylim(), label='Start Fine Tuning')\n",
        "plt.legend(loc='upper right')\n",
        "plt.title('Training and Validation Loss')\n",
        "plt.xlabel('epoch')\n",
        "plt.show()"
      ],
      "execution_count": null,
      "outputs": [
        {
          "output_type": "display_data",
          "data": {
            "image/png": "[encoded data removed]",
            "text/plain": [
              "<Figure size 576x576 with 2 Axes>"
            ]
          },
          "metadata": {
            "tags": [],
            "needs_background": "light"
          }
        }
      ]
    },
    {
      "cell_type": "code",
      "metadata": {
        "id": "_CjluJtcxXJz"
      },
      "source": [
        "model.save('{}/{}'.format(base_dir, 'mobileNetV2_model_lrreduce_tuned_30.h5'))"
      ],
      "execution_count": null,
      "outputs": []
    },
    {
      "cell_type": "code",
      "metadata": {
        "id": "iw1OIjxhxXJz"
      },
      "source": [
        "model = tf.keras.models.load_model('{}/{}'.format(base_dir, 'mobileNetV2_model_lrreduce_tuned_30.h5'))"
      ],
      "execution_count": null,
      "outputs": []
    },
    {
      "cell_type": "markdown",
      "metadata": {
        "id": "SKhoxHHxxXJ0"
      },
      "source": [
        "### Confusion Matrix"
      ]
    },
    {
      "cell_type": "code",
      "metadata": {
        "id": "TnwSfcmIxXJ0"
      },
      "source": [
        "# make a prediction\n",
        "def predict_on_test(model, test_gen, df_size):\n",
        "    predictions1 = model.predict_generator(test_gen, steps=df_size, verbose=1)\n",
        "    np.putmask(predictions1, predictions1 >= 0, 1)    \n",
        "    np.putmask(predictions1, predictions1 < 0, 0)\n",
        "    \n",
        "    predictions2 = model.predict_generator(test_gen, steps=df_size, verbose=1)\n",
        "    np.putmask(predictions2, predictions2 >= 0, 1)\n",
        "    np.putmask(predictions2, predictions2 < 0, 0)\n",
        "\n",
        "    predictions3 = model.predict_generator(test_gen, steps=df_size, verbose=1)\n",
        "    np.putmask(predictions3, predictions3 >= 0, 1)\n",
        "    np.putmask(predictions3, predictions3 < 0, 0)\n",
        "    \n",
        "    predictions4 = model.predict_generator(test_gen, steps=df_size, verbose=1)\n",
        "    np.putmask(predictions4, predictions4 >= 0, 1)\n",
        "    np.putmask(predictions4, predictions4 < 0, 0)\n",
        "    \n",
        "    predictions5 = model.predict_generator(test_gen, steps=df_size, verbose=1)\n",
        "    np.putmask(predictions5, predictions5 >= 0, 1)\n",
        "    np.putmask(predictions5, predictions5 < 0, 0)\n",
        "    \n",
        "    predictions = predictions1 + predictions2 + predictions3 + predictions4 + predictions5\n",
        "    np.putmask(predictions, predictions >= 3, 1)\n",
        "    np.putmask(predictions, predictions < 3, 0)\n",
        "    predictions = predictions.flatten()\n",
        "    df_preds = pd.DataFrame(predictions, columns=['has_tumor_tissue'])\n",
        "\n",
        "    y_true = test_gen.classes\n",
        "    y_pred = df_preds['has_tumor_tissue']\n",
        "\n",
        "    print(\"F1 Score: \" + str(sklearn.metrics.f1_score(y_true, y_pred)))\n",
        "    print(\"AUC Score: \" + str(sklearn.metrics.roc_auc_score(y_true, y_pred)))\n",
        "    \n",
        "    test_labels = test_gen.classes\n",
        "    cm = sklearn.metrics.confusion_matrix(test_labels, predictions)\n",
        "    \n",
        "    tn, fp, fn, tp = cm.ravel()\n",
        "    precision = tp/(tp+fp)\n",
        "    recall = tp/(tp+fn)\n",
        "    f1_score=(2*precision*recall)/(recall+precision)\n",
        "    accuracy = (tp + tn)/(tp + fp + tn + fn)\n",
        "    \n",
        "    print(\"Precision: \" + str(precision))\n",
        "    print(\"Recall: \" + str(recall))\n",
        "    print(\"F1 Score: \" + str(f1_score))\n",
        "    print(\"Accuracy: \" + str(accuracy))\n",
        "    \n",
        "    sns.heatmap(cm/np.sum(cm), fmt='.2%' , annot=True, cmap='Blues', square=True, cbar=False, annot_kws={'size':25})"
      ],
      "execution_count": null,
      "outputs": []
    },
    {
      "cell_type": "code",
      "metadata": {
        "id": "78zKg6AOxXJ0",
        "colab": {
          "base_uri": "https://localhost:8080/"
        },
        "outputId": "a2889d7d-76b8-43cc-bb53-40b639473df9"
      },
      "source": [
        "predict_on_test(model, test_data_iterator, test_data_iterator.n)"
      ],
      "execution_count": null,
      "outputs": [
        {
          "output_type": "stream",
          "text": [
            "/usr/local/lib/python3.7/dist-packages/tensorflow/python/keras/engine/training.py:2001: UserWarning: `Model.predict_generator` is deprecated and will be removed in a future version. Please use `Model.predict`, which supports generators.\n",
            "  warnings.warn('`Model.predict_generator` is deprecated and '\n"
          ],
          "name": "stderr"
        },
        {
          "output_type": "stream",
          "text": [
            "21783/21783 [==============================] - 151s 7ms/step\n",
            "F1 Score: 0.9223278726085463\n",
            "AUC Score: 0.9337198441783049\n",
            "Precision: 0.9323682686740011\n",
            "Recall: 0.9125014167516717\n",
            "F1 Score: 0.9223278726085463\n",
            "Accuracy: 0.9377496212642886\n"
          ],
          "name": "stdout"
        },
        {
          "output_type": "display_data",
          "data": {
            "image/png": "[encoded data removed]",
            "text/plain": [
              "<Figure size 432x288 with 1 Axes>"
            ]
          },
          "metadata": {
            "tags": [],
            "needs_background": "light"
          }
        }
      ]
    }
  ]
}